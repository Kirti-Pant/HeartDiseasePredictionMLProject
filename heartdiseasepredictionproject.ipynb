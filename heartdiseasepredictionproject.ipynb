{
 "cells": [
  {
   "cell_type": "code",
   "execution_count": 1,
   "id": "9aa8addd",
   "metadata": {
    "_cell_guid": "b1076dfc-b9ad-4769-8c92-a6c4dae69d19",
    "_uuid": "8f2839f25d086af736a60e9eeb907d3b93b6e0e5",
    "execution": {
     "iopub.execute_input": "2023-06-28T22:00:25.820662Z",
     "iopub.status.busy": "2023-06-28T22:00:25.820258Z",
     "iopub.status.idle": "2023-06-28T22:00:25.838096Z",
     "shell.execute_reply": "2023-06-28T22:00:25.836884Z"
    },
    "papermill": {
     "duration": 0.04117,
     "end_time": "2023-06-28T22:00:25.841134",
     "exception": false,
     "start_time": "2023-06-28T22:00:25.799964",
     "status": "completed"
    },
    "tags": []
   },
   "outputs": [
    {
     "name": "stdout",
     "output_type": "stream",
     "text": [
      "/kaggle/input/heart-disease-dataset/heart.csv\n"
     ]
    }
   ],
   "source": [
    "\n",
    "\n",
    "import numpy as np \n",
    "import pandas as pd \n",
    "\n",
    "\n",
    "\n",
    "\n",
    "import os\n",
    "for dirname, _, filenames in os.walk('/kaggle/input'):\n",
    "    for filename in filenames:\n",
    "        print(os.path.join(dirname, filename))\n",
    "\n"
   ]
  },
  {
   "cell_type": "code",
   "execution_count": 2,
   "id": "9917ae2a",
   "metadata": {
    "execution": {
     "iopub.execute_input": "2023-06-28T22:00:25.879215Z",
     "iopub.status.busy": "2023-06-28T22:00:25.878783Z",
     "iopub.status.idle": "2023-06-28T22:00:25.905882Z",
     "shell.execute_reply": "2023-06-28T22:00:25.904454Z"
    },
    "papermill": {
     "duration": 0.049239,
     "end_time": "2023-06-28T22:00:25.908679",
     "exception": false,
     "start_time": "2023-06-28T22:00:25.859440",
     "status": "completed"
    },
    "tags": []
   },
   "outputs": [],
   "source": [
    "train_data=pd.read_csv('/kaggle/input/heart-disease-dataset/heart.csv')"
   ]
  },
  {
   "cell_type": "code",
   "execution_count": 3,
   "id": "68e7185d",
   "metadata": {
    "execution": {
     "iopub.execute_input": "2023-06-28T22:00:25.946612Z",
     "iopub.status.busy": "2023-06-28T22:00:25.946166Z",
     "iopub.status.idle": "2023-06-28T22:00:25.978799Z",
     "shell.execute_reply": "2023-06-28T22:00:25.976954Z"
    },
    "papermill": {
     "duration": 0.055188,
     "end_time": "2023-06-28T22:00:25.981904",
     "exception": false,
     "start_time": "2023-06-28T22:00:25.926716",
     "status": "completed"
    },
    "tags": []
   },
   "outputs": [
    {
     "name": "stdout",
     "output_type": "stream",
     "text": [
      "      age  sex  cp  trestbps  chol  fbs  restecg  thalach  exang  oldpeak  \\\n",
      "0      52    1   0       125   212    0        1      168      0      1.0   \n",
      "1      53    1   0       140   203    1        0      155      1      3.1   \n",
      "2      70    1   0       145   174    0        1      125      1      2.6   \n",
      "3      61    1   0       148   203    0        1      161      0      0.0   \n",
      "4      62    0   0       138   294    1        1      106      0      1.9   \n",
      "...   ...  ...  ..       ...   ...  ...      ...      ...    ...      ...   \n",
      "1020   59    1   1       140   221    0        1      164      1      0.0   \n",
      "1021   60    1   0       125   258    0        0      141      1      2.8   \n",
      "1022   47    1   0       110   275    0        0      118      1      1.0   \n",
      "1023   50    0   0       110   254    0        0      159      0      0.0   \n",
      "1024   54    1   0       120   188    0        1      113      0      1.4   \n",
      "\n",
      "      slope  ca  thal  target  \n",
      "0         2   2     3       0  \n",
      "1         0   0     3       0  \n",
      "2         0   0     3       0  \n",
      "3         2   1     3       0  \n",
      "4         1   3     2       0  \n",
      "...     ...  ..   ...     ...  \n",
      "1020      2   0     2       1  \n",
      "1021      1   1     3       0  \n",
      "1022      1   1     2       0  \n",
      "1023      2   0     2       1  \n",
      "1024      1   1     3       0  \n",
      "\n",
      "[1025 rows x 14 columns]\n"
     ]
    }
   ],
   "source": [
    "print(train_data)"
   ]
  },
  {
   "cell_type": "code",
   "execution_count": 4,
   "id": "4fda26bb",
   "metadata": {
    "execution": {
     "iopub.execute_input": "2023-06-28T22:00:26.020680Z",
     "iopub.status.busy": "2023-06-28T22:00:26.020280Z",
     "iopub.status.idle": "2023-06-28T22:00:26.047313Z",
     "shell.execute_reply": "2023-06-28T22:00:26.045739Z"
    },
    "papermill": {
     "duration": 0.050356,
     "end_time": "2023-06-28T22:00:26.050536",
     "exception": false,
     "start_time": "2023-06-28T22:00:26.000180",
     "status": "completed"
    },
    "tags": []
   },
   "outputs": [
    {
     "name": "stdout",
     "output_type": "stream",
     "text": [
      "<class 'pandas.core.frame.DataFrame'>\n",
      "RangeIndex: 1025 entries, 0 to 1024\n",
      "Data columns (total 14 columns):\n",
      " #   Column    Non-Null Count  Dtype  \n",
      "---  ------    --------------  -----  \n",
      " 0   age       1025 non-null   int64  \n",
      " 1   sex       1025 non-null   int64  \n",
      " 2   cp        1025 non-null   int64  \n",
      " 3   trestbps  1025 non-null   int64  \n",
      " 4   chol      1025 non-null   int64  \n",
      " 5   fbs       1025 non-null   int64  \n",
      " 6   restecg   1025 non-null   int64  \n",
      " 7   thalach   1025 non-null   int64  \n",
      " 8   exang     1025 non-null   int64  \n",
      " 9   oldpeak   1025 non-null   float64\n",
      " 10  slope     1025 non-null   int64  \n",
      " 11  ca        1025 non-null   int64  \n",
      " 12  thal      1025 non-null   int64  \n",
      " 13  target    1025 non-null   int64  \n",
      "dtypes: float64(1), int64(13)\n",
      "memory usage: 112.2 KB\n"
     ]
    }
   ],
   "source": [
    "train_data.info()\n"
   ]
  },
  {
   "cell_type": "code",
   "execution_count": 5,
   "id": "453e09b1",
   "metadata": {
    "execution": {
     "iopub.execute_input": "2023-06-28T22:00:26.089712Z",
     "iopub.status.busy": "2023-06-28T22:00:26.089283Z",
     "iopub.status.idle": "2023-06-28T22:00:26.101364Z",
     "shell.execute_reply": "2023-06-28T22:00:26.100136Z"
    },
    "papermill": {
     "duration": 0.035139,
     "end_time": "2023-06-28T22:00:26.103764",
     "exception": false,
     "start_time": "2023-06-28T22:00:26.068625",
     "status": "completed"
    },
    "tags": []
   },
   "outputs": [
    {
     "data": {
      "text/plain": [
       "age         0\n",
       "sex         0\n",
       "cp          0\n",
       "trestbps    0\n",
       "chol        0\n",
       "fbs         0\n",
       "restecg     0\n",
       "thalach     0\n",
       "exang       0\n",
       "oldpeak     0\n",
       "slope       0\n",
       "ca          0\n",
       "thal        0\n",
       "target      0\n",
       "dtype: int64"
      ]
     },
     "execution_count": 5,
     "metadata": {},
     "output_type": "execute_result"
    }
   ],
   "source": [
    "#checking missing values\n",
    "train_data.isnull().sum()"
   ]
  },
  {
   "cell_type": "code",
   "execution_count": 6,
   "id": "01f689f0",
   "metadata": {
    "execution": {
     "iopub.execute_input": "2023-06-28T22:00:26.143259Z",
     "iopub.status.busy": "2023-06-28T22:00:26.142827Z",
     "iopub.status.idle": "2023-06-28T22:00:26.157534Z",
     "shell.execute_reply": "2023-06-28T22:00:26.156378Z"
    },
    "papermill": {
     "duration": 0.037379,
     "end_time": "2023-06-28T22:00:26.159946",
     "exception": false,
     "start_time": "2023-06-28T22:00:26.122567",
     "status": "completed"
    },
    "tags": []
   },
   "outputs": [
    {
     "data": {
      "text/plain": [
       "<bound method DataFrame.duplicated of       age  sex  cp  trestbps  chol  fbs  restecg  thalach  exang  oldpeak  \\\n",
       "0      52    1   0       125   212    0        1      168      0      1.0   \n",
       "1      53    1   0       140   203    1        0      155      1      3.1   \n",
       "2      70    1   0       145   174    0        1      125      1      2.6   \n",
       "3      61    1   0       148   203    0        1      161      0      0.0   \n",
       "4      62    0   0       138   294    1        1      106      0      1.9   \n",
       "...   ...  ...  ..       ...   ...  ...      ...      ...    ...      ...   \n",
       "1020   59    1   1       140   221    0        1      164      1      0.0   \n",
       "1021   60    1   0       125   258    0        0      141      1      2.8   \n",
       "1022   47    1   0       110   275    0        0      118      1      1.0   \n",
       "1023   50    0   0       110   254    0        0      159      0      0.0   \n",
       "1024   54    1   0       120   188    0        1      113      0      1.4   \n",
       "\n",
       "      slope  ca  thal  target  \n",
       "0         2   2     3       0  \n",
       "1         0   0     3       0  \n",
       "2         0   0     3       0  \n",
       "3         2   1     3       0  \n",
       "4         1   3     2       0  \n",
       "...     ...  ..   ...     ...  \n",
       "1020      2   0     2       1  \n",
       "1021      1   1     3       0  \n",
       "1022      1   1     2       0  \n",
       "1023      2   0     2       1  \n",
       "1024      1   1     3       0  \n",
       "\n",
       "[1025 rows x 14 columns]>"
      ]
     },
     "execution_count": 6,
     "metadata": {},
     "output_type": "execute_result"
    }
   ],
   "source": [
    "#checking duplicate values\n",
    "train_data.duplicated"
   ]
  },
  {
   "cell_type": "code",
   "execution_count": 7,
   "id": "eb35235a",
   "metadata": {
    "execution": {
     "iopub.execute_input": "2023-06-28T22:00:26.199426Z",
     "iopub.status.busy": "2023-06-28T22:00:26.198990Z",
     "iopub.status.idle": "2023-06-28T22:00:26.210359Z",
     "shell.execute_reply": "2023-06-28T22:00:26.209091Z"
    },
    "papermill": {
     "duration": 0.034278,
     "end_time": "2023-06-28T22:00:26.212989",
     "exception": false,
     "start_time": "2023-06-28T22:00:26.178711",
     "status": "completed"
    },
    "tags": []
   },
   "outputs": [],
   "source": [
    "data_dup=train_data.duplicated().any()"
   ]
  },
  {
   "cell_type": "code",
   "execution_count": 8,
   "id": "b2f844c1",
   "metadata": {
    "execution": {
     "iopub.execute_input": "2023-06-28T22:00:26.253122Z",
     "iopub.status.busy": "2023-06-28T22:00:26.252715Z",
     "iopub.status.idle": "2023-06-28T22:00:26.259279Z",
     "shell.execute_reply": "2023-06-28T22:00:26.258318Z"
    },
    "papermill": {
     "duration": 0.028635,
     "end_time": "2023-06-28T22:00:26.261530",
     "exception": false,
     "start_time": "2023-06-28T22:00:26.232895",
     "status": "completed"
    },
    "tags": []
   },
   "outputs": [
    {
     "data": {
      "text/plain": [
       "True"
      ]
     },
     "execution_count": 8,
     "metadata": {},
     "output_type": "execute_result"
    }
   ],
   "source": [
    "data_dup"
   ]
  },
  {
   "cell_type": "code",
   "execution_count": 9,
   "id": "ec2e1f2c",
   "metadata": {
    "execution": {
     "iopub.execute_input": "2023-06-28T22:00:26.299904Z",
     "iopub.status.busy": "2023-06-28T22:00:26.299489Z",
     "iopub.status.idle": "2023-06-28T22:00:26.307929Z",
     "shell.execute_reply": "2023-06-28T22:00:26.306853Z"
    },
    "papermill": {
     "duration": 0.030863,
     "end_time": "2023-06-28T22:00:26.310623",
     "exception": false,
     "start_time": "2023-06-28T22:00:26.279760",
     "status": "completed"
    },
    "tags": []
   },
   "outputs": [],
   "source": [
    "train_data=train_data.drop_duplicates()"
   ]
  },
  {
   "cell_type": "code",
   "execution_count": 10,
   "id": "5a3c92e4",
   "metadata": {
    "execution": {
     "iopub.execute_input": "2023-06-28T22:00:26.349914Z",
     "iopub.status.busy": "2023-06-28T22:00:26.349531Z",
     "iopub.status.idle": "2023-06-28T22:00:26.359324Z",
     "shell.execute_reply": "2023-06-28T22:00:26.358088Z"
    },
    "papermill": {
     "duration": 0.031836,
     "end_time": "2023-06-28T22:00:26.361571",
     "exception": false,
     "start_time": "2023-06-28T22:00:26.329735",
     "status": "completed"
    },
    "tags": []
   },
   "outputs": [
    {
     "data": {
      "text/plain": [
       "False"
      ]
     },
     "execution_count": 10,
     "metadata": {},
     "output_type": "execute_result"
    }
   ],
   "source": [
    "train_data.duplicated().any()"
   ]
  },
  {
   "cell_type": "code",
   "execution_count": 11,
   "id": "6643f00b",
   "metadata": {
    "execution": {
     "iopub.execute_input": "2023-06-28T22:00:26.400561Z",
     "iopub.status.busy": "2023-06-28T22:00:26.399869Z",
     "iopub.status.idle": "2023-06-28T22:00:26.424032Z",
     "shell.execute_reply": "2023-06-28T22:00:26.422797Z"
    },
    "papermill": {
     "duration": 0.046884,
     "end_time": "2023-06-28T22:00:26.426722",
     "exception": false,
     "start_time": "2023-06-28T22:00:26.379838",
     "status": "completed"
    },
    "tags": []
   },
   "outputs": [
    {
     "data": {
      "text/html": [
       "<div>\n",
       "<style scoped>\n",
       "    .dataframe tbody tr th:only-of-type {\n",
       "        vertical-align: middle;\n",
       "    }\n",
       "\n",
       "    .dataframe tbody tr th {\n",
       "        vertical-align: top;\n",
       "    }\n",
       "\n",
       "    .dataframe thead th {\n",
       "        text-align: right;\n",
       "    }\n",
       "</style>\n",
       "<table border=\"1\" class=\"dataframe\">\n",
       "  <thead>\n",
       "    <tr style=\"text-align: right;\">\n",
       "      <th></th>\n",
       "      <th>age</th>\n",
       "      <th>sex</th>\n",
       "      <th>cp</th>\n",
       "      <th>trestbps</th>\n",
       "      <th>chol</th>\n",
       "      <th>fbs</th>\n",
       "      <th>restecg</th>\n",
       "      <th>thalach</th>\n",
       "      <th>exang</th>\n",
       "      <th>oldpeak</th>\n",
       "      <th>slope</th>\n",
       "      <th>ca</th>\n",
       "      <th>thal</th>\n",
       "      <th>target</th>\n",
       "    </tr>\n",
       "  </thead>\n",
       "  <tbody>\n",
       "    <tr>\n",
       "      <th>108</th>\n",
       "      <td>40</td>\n",
       "      <td>1</td>\n",
       "      <td>0</td>\n",
       "      <td>152</td>\n",
       "      <td>223</td>\n",
       "      <td>0</td>\n",
       "      <td>1</td>\n",
       "      <td>181</td>\n",
       "      <td>0</td>\n",
       "      <td>0.0</td>\n",
       "      <td>2</td>\n",
       "      <td>0</td>\n",
       "      <td>3</td>\n",
       "      <td>0</td>\n",
       "    </tr>\n",
       "    <tr>\n",
       "      <th>184</th>\n",
       "      <td>45</td>\n",
       "      <td>1</td>\n",
       "      <td>1</td>\n",
       "      <td>128</td>\n",
       "      <td>308</td>\n",
       "      <td>0</td>\n",
       "      <td>0</td>\n",
       "      <td>170</td>\n",
       "      <td>0</td>\n",
       "      <td>0.0</td>\n",
       "      <td>2</td>\n",
       "      <td>0</td>\n",
       "      <td>2</td>\n",
       "      <td>1</td>\n",
       "    </tr>\n",
       "    <tr>\n",
       "      <th>4</th>\n",
       "      <td>62</td>\n",
       "      <td>0</td>\n",
       "      <td>0</td>\n",
       "      <td>138</td>\n",
       "      <td>294</td>\n",
       "      <td>1</td>\n",
       "      <td>1</td>\n",
       "      <td>106</td>\n",
       "      <td>0</td>\n",
       "      <td>1.9</td>\n",
       "      <td>1</td>\n",
       "      <td>3</td>\n",
       "      <td>2</td>\n",
       "      <td>0</td>\n",
       "    </tr>\n",
       "    <tr>\n",
       "      <th>628</th>\n",
       "      <td>69</td>\n",
       "      <td>0</td>\n",
       "      <td>3</td>\n",
       "      <td>140</td>\n",
       "      <td>239</td>\n",
       "      <td>0</td>\n",
       "      <td>1</td>\n",
       "      <td>151</td>\n",
       "      <td>0</td>\n",
       "      <td>1.8</td>\n",
       "      <td>2</td>\n",
       "      <td>2</td>\n",
       "      <td>2</td>\n",
       "      <td>1</td>\n",
       "    </tr>\n",
       "    <tr>\n",
       "      <th>629</th>\n",
       "      <td>65</td>\n",
       "      <td>1</td>\n",
       "      <td>3</td>\n",
       "      <td>138</td>\n",
       "      <td>282</td>\n",
       "      <td>1</td>\n",
       "      <td>0</td>\n",
       "      <td>174</td>\n",
       "      <td>0</td>\n",
       "      <td>1.4</td>\n",
       "      <td>1</td>\n",
       "      <td>1</td>\n",
       "      <td>2</td>\n",
       "      <td>0</td>\n",
       "    </tr>\n",
       "  </tbody>\n",
       "</table>\n",
       "</div>"
      ],
      "text/plain": [
       "     age  sex  cp  trestbps  chol  fbs  restecg  thalach  exang  oldpeak  \\\n",
       "108   40    1   0       152   223    0        1      181      0      0.0   \n",
       "184   45    1   1       128   308    0        0      170      0      0.0   \n",
       "4     62    0   0       138   294    1        1      106      0      1.9   \n",
       "628   69    0   3       140   239    0        1      151      0      1.8   \n",
       "629   65    1   3       138   282    1        0      174      0      1.4   \n",
       "\n",
       "     slope  ca  thal  target  \n",
       "108      2   0     3       0  \n",
       "184      2   0     2       1  \n",
       "4        1   3     2       0  \n",
       "628      2   2     2       1  \n",
       "629      1   1     2       0  "
      ]
     },
     "execution_count": 11,
     "metadata": {},
     "output_type": "execute_result"
    }
   ],
   "source": [
    "#handling categorical columns\n",
    "train_data.sample(5)"
   ]
  },
  {
   "cell_type": "code",
   "execution_count": 12,
   "id": "7bc70cdc",
   "metadata": {
    "execution": {
     "iopub.execute_input": "2023-06-28T22:00:26.465612Z",
     "iopub.status.busy": "2023-06-28T22:00:26.465216Z",
     "iopub.status.idle": "2023-06-28T22:00:26.469822Z",
     "shell.execute_reply": "2023-06-28T22:00:26.468802Z"
    },
    "papermill": {
     "duration": 0.026773,
     "end_time": "2023-06-28T22:00:26.472035",
     "exception": false,
     "start_time": "2023-06-28T22:00:26.445262",
     "status": "completed"
    },
    "tags": []
   },
   "outputs": [],
   "source": [
    "#no need to handle categorical and numerical columns"
   ]
  },
  {
   "cell_type": "code",
   "execution_count": 13,
   "id": "146b5086",
   "metadata": {
    "execution": {
     "iopub.execute_input": "2023-06-28T22:00:26.512499Z",
     "iopub.status.busy": "2023-06-28T22:00:26.511494Z",
     "iopub.status.idle": "2023-06-28T22:00:26.520490Z",
     "shell.execute_reply": "2023-06-28T22:00:26.519359Z"
    },
    "papermill": {
     "duration": 0.032054,
     "end_time": "2023-06-28T22:00:26.522972",
     "exception": false,
     "start_time": "2023-06-28T22:00:26.490918",
     "status": "completed"
    },
    "tags": []
   },
   "outputs": [
    {
     "data": {
      "text/plain": [
       "age           int64\n",
       "sex           int64\n",
       "cp            int64\n",
       "trestbps      int64\n",
       "chol          int64\n",
       "fbs           int64\n",
       "restecg       int64\n",
       "thalach       int64\n",
       "exang         int64\n",
       "oldpeak     float64\n",
       "slope         int64\n",
       "ca            int64\n",
       "thal          int64\n",
       "target        int64\n",
       "dtype: object"
      ]
     },
     "execution_count": 13,
     "metadata": {},
     "output_type": "execute_result"
    }
   ],
   "source": [
    "#encoding\n",
    "train_data.dtypes"
   ]
  },
  {
   "cell_type": "code",
   "execution_count": 14,
   "id": "0e3c93e6",
   "metadata": {
    "execution": {
     "iopub.execute_input": "2023-06-28T22:00:26.564809Z",
     "iopub.status.busy": "2023-06-28T22:00:26.564449Z",
     "iopub.status.idle": "2023-06-28T22:00:26.570605Z",
     "shell.execute_reply": "2023-06-28T22:00:26.569401Z"
    },
    "papermill": {
     "duration": 0.030732,
     "end_time": "2023-06-28T22:00:26.572982",
     "exception": false,
     "start_time": "2023-06-28T22:00:26.542250",
     "status": "completed"
    },
    "tags": []
   },
   "outputs": [],
   "source": [
    "#features and target\n",
    "X=train_data.drop(columns=['age','target'], axis=1)"
   ]
  },
  {
   "cell_type": "code",
   "execution_count": 15,
   "id": "4c2d1ba3",
   "metadata": {
    "execution": {
     "iopub.execute_input": "2023-06-28T22:00:26.614326Z",
     "iopub.status.busy": "2023-06-28T22:00:26.613030Z",
     "iopub.status.idle": "2023-06-28T22:00:26.626256Z",
     "shell.execute_reply": "2023-06-28T22:00:26.624814Z"
    },
    "papermill": {
     "duration": 0.036561,
     "end_time": "2023-06-28T22:00:26.628742",
     "exception": false,
     "start_time": "2023-06-28T22:00:26.592181",
     "status": "completed"
    },
    "tags": []
   },
   "outputs": [
    {
     "name": "stdout",
     "output_type": "stream",
     "text": [
      "     sex  cp  trestbps  chol  fbs  restecg  thalach  exang  oldpeak  slope  \\\n",
      "0      1   0       125   212    0        1      168      0      1.0      2   \n",
      "1      1   0       140   203    1        0      155      1      3.1      0   \n",
      "2      1   0       145   174    0        1      125      1      2.6      0   \n",
      "3      1   0       148   203    0        1      161      0      0.0      2   \n",
      "4      0   0       138   294    1        1      106      0      1.9      1   \n",
      "..   ...  ..       ...   ...  ...      ...      ...    ...      ...    ...   \n",
      "723    0   2       120   211    0        0      115      0      1.5      1   \n",
      "733    0   2       108   141    0        1      175      0      0.6      1   \n",
      "739    1   0       128   255    0        1      161      1      0.0      2   \n",
      "843    1   3       160   273    0        0      125      0      0.0      2   \n",
      "878    1   0       120   188    0        1      113      0      1.4      1   \n",
      "\n",
      "     ca  thal  \n",
      "0     2     3  \n",
      "1     0     3  \n",
      "2     0     3  \n",
      "3     1     3  \n",
      "4     3     2  \n",
      "..   ..   ...  \n",
      "723   0     2  \n",
      "733   0     2  \n",
      "739   1     3  \n",
      "843   0     2  \n",
      "878   1     3  \n",
      "\n",
      "[302 rows x 12 columns]\n"
     ]
    }
   ],
   "source": [
    "print(X)"
   ]
  },
  {
   "cell_type": "code",
   "execution_count": 16,
   "id": "a85375ca",
   "metadata": {
    "execution": {
     "iopub.execute_input": "2023-06-28T22:00:26.669362Z",
     "iopub.status.busy": "2023-06-28T22:00:26.668968Z",
     "iopub.status.idle": "2023-06-28T22:00:26.673739Z",
     "shell.execute_reply": "2023-06-28T22:00:26.672615Z"
    },
    "papermill": {
     "duration": 0.028139,
     "end_time": "2023-06-28T22:00:26.676161",
     "exception": false,
     "start_time": "2023-06-28T22:00:26.648022",
     "status": "completed"
    },
    "tags": []
   },
   "outputs": [],
   "source": [
    "Y=train_data['target']"
   ]
  },
  {
   "cell_type": "code",
   "execution_count": 17,
   "id": "489f62e7",
   "metadata": {
    "execution": {
     "iopub.execute_input": "2023-06-28T22:00:26.716098Z",
     "iopub.status.busy": "2023-06-28T22:00:26.715331Z",
     "iopub.status.idle": "2023-06-28T22:00:26.722649Z",
     "shell.execute_reply": "2023-06-28T22:00:26.721125Z"
    },
    "papermill": {
     "duration": 0.029965,
     "end_time": "2023-06-28T22:00:26.725254",
     "exception": false,
     "start_time": "2023-06-28T22:00:26.695289",
     "status": "completed"
    },
    "tags": []
   },
   "outputs": [
    {
     "name": "stdout",
     "output_type": "stream",
     "text": [
      "0      0\n",
      "1      0\n",
      "2      0\n",
      "3      0\n",
      "4      0\n",
      "      ..\n",
      "723    1\n",
      "733    1\n",
      "739    0\n",
      "843    0\n",
      "878    0\n",
      "Name: target, Length: 302, dtype: int64\n"
     ]
    }
   ],
   "source": [
    "print(Y)"
   ]
  },
  {
   "cell_type": "code",
   "execution_count": 18,
   "id": "786a0460",
   "metadata": {
    "execution": {
     "iopub.execute_input": "2023-06-28T22:00:26.766335Z",
     "iopub.status.busy": "2023-06-28T22:00:26.765938Z",
     "iopub.status.idle": "2023-06-28T22:00:28.264960Z",
     "shell.execute_reply": "2023-06-28T22:00:28.263576Z"
    },
    "papermill": {
     "duration": 1.522639,
     "end_time": "2023-06-28T22:00:28.267913",
     "exception": false,
     "start_time": "2023-06-28T22:00:26.745274",
     "status": "completed"
    },
    "tags": []
   },
   "outputs": [],
   "source": [
    "# standardisation of a dataset\n",
    "from sklearn.preprocessing import StandardScaler"
   ]
  },
  {
   "cell_type": "code",
   "execution_count": 19,
   "id": "c94e7422",
   "metadata": {
    "execution": {
     "iopub.execute_input": "2023-06-28T22:00:28.309104Z",
     "iopub.status.busy": "2023-06-28T22:00:28.307727Z",
     "iopub.status.idle": "2023-06-28T22:00:28.313747Z",
     "shell.execute_reply": "2023-06-28T22:00:28.312590Z"
    },
    "papermill": {
     "duration": 0.029946,
     "end_time": "2023-06-28T22:00:28.316868",
     "exception": false,
     "start_time": "2023-06-28T22:00:28.286922",
     "status": "completed"
    },
    "tags": []
   },
   "outputs": [],
   "source": [
    "st=StandardScaler()"
   ]
  },
  {
   "cell_type": "code",
   "execution_count": 20,
   "id": "ece0fa52",
   "metadata": {
    "execution": {
     "iopub.execute_input": "2023-06-28T22:00:28.358262Z",
     "iopub.status.busy": "2023-06-28T22:00:28.357760Z",
     "iopub.status.idle": "2023-06-28T22:00:28.371050Z",
     "shell.execute_reply": "2023-06-28T22:00:28.369516Z"
    },
    "papermill": {
     "duration": 0.03721,
     "end_time": "2023-06-28T22:00:28.373858",
     "exception": false,
     "start_time": "2023-06-28T22:00:28.336648",
     "status": "completed"
    },
    "tags": []
   },
   "outputs": [
    {
     "name": "stdout",
     "output_type": "stream",
     "text": [
      "     sex  cp  trestbps  chol  fbs  restecg  thalach  exang  oldpeak  slope  \\\n",
      "0      1   0       125   212    0        1      168      0      1.0      2   \n",
      "1      1   0       140   203    1        0      155      1      3.1      0   \n",
      "2      1   0       145   174    0        1      125      1      2.6      0   \n",
      "3      1   0       148   203    0        1      161      0      0.0      2   \n",
      "4      0   0       138   294    1        1      106      0      1.9      1   \n",
      "..   ...  ..       ...   ...  ...      ...      ...    ...      ...    ...   \n",
      "723    0   2       120   211    0        0      115      0      1.5      1   \n",
      "733    0   2       108   141    0        1      175      0      0.6      1   \n",
      "739    1   0       128   255    0        1      161      1      0.0      2   \n",
      "843    1   3       160   273    0        0      125      0      0.0      2   \n",
      "878    1   0       120   188    0        1      113      0      1.4      1   \n",
      "\n",
      "     ca  thal  \n",
      "0     2     3  \n",
      "1     0     3  \n",
      "2     0     3  \n",
      "3     1     3  \n",
      "4     3     2  \n",
      "..   ..   ...  \n",
      "723   0     2  \n",
      "733   0     2  \n",
      "739   1     3  \n",
      "843   0     2  \n",
      "878   1     3  \n",
      "\n",
      "[302 rows x 12 columns]\n"
     ]
    }
   ],
   "source": [
    "print(X)"
   ]
  },
  {
   "cell_type": "code",
   "execution_count": 21,
   "id": "677cab4c",
   "metadata": {
    "execution": {
     "iopub.execute_input": "2023-06-28T22:00:28.415481Z",
     "iopub.status.busy": "2023-06-28T22:00:28.415088Z",
     "iopub.status.idle": "2023-06-28T22:00:28.420921Z",
     "shell.execute_reply": "2023-06-28T22:00:28.419703Z"
    },
    "papermill": {
     "duration": 0.029563,
     "end_time": "2023-06-28T22:00:28.423442",
     "exception": false,
     "start_time": "2023-06-28T22:00:28.393879",
     "status": "completed"
    },
    "tags": []
   },
   "outputs": [],
   "source": [
    "cols=['trestbps','chol','thalach']"
   ]
  },
  {
   "cell_type": "code",
   "execution_count": 22,
   "id": "15b87739",
   "metadata": {
    "execution": {
     "iopub.execute_input": "2023-06-28T22:00:28.464871Z",
     "iopub.status.busy": "2023-06-28T22:00:28.464491Z",
     "iopub.status.idle": "2023-06-28T22:00:28.475973Z",
     "shell.execute_reply": "2023-06-28T22:00:28.475042Z"
    },
    "papermill": {
     "duration": 0.035821,
     "end_time": "2023-06-28T22:00:28.478593",
     "exception": false,
     "start_time": "2023-06-28T22:00:28.442772",
     "status": "completed"
    },
    "tags": []
   },
   "outputs": [],
   "source": [
    "X[cols]=st.fit_transform(X[cols])"
   ]
  },
  {
   "cell_type": "code",
   "execution_count": 23,
   "id": "3d64bbe0",
   "metadata": {
    "execution": {
     "iopub.execute_input": "2023-06-28T22:00:28.519691Z",
     "iopub.status.busy": "2023-06-28T22:00:28.519287Z",
     "iopub.status.idle": "2023-06-28T22:00:28.535690Z",
     "shell.execute_reply": "2023-06-28T22:00:28.534089Z"
    },
    "papermill": {
     "duration": 0.040582,
     "end_time": "2023-06-28T22:00:28.538880",
     "exception": false,
     "start_time": "2023-06-28T22:00:28.498298",
     "status": "completed"
    },
    "tags": []
   },
   "outputs": [
    {
     "name": "stdout",
     "output_type": "stream",
     "text": [
      "     sex  cp  trestbps      chol  fbs  restecg   thalach  exang  oldpeak  \\\n",
      "0      1   0 -0.376556 -0.667728    0        1  0.806035      0      1.0   \n",
      "1      1   0  0.478910 -0.841918    1        0  0.237495      1      3.1   \n",
      "2      1   0  0.764066 -1.403197    0        1 -1.074521      1      2.6   \n",
      "3      1   0  0.935159 -0.841918    0        1  0.499898      0      0.0   \n",
      "4      0   0  0.364848  0.919336    1        1 -1.905464      0      1.9   \n",
      "..   ...  ..       ...       ...  ...      ...       ...    ...      ...   \n",
      "723    0   2 -0.661712 -0.687083    0        0 -1.511859      0      1.5   \n",
      "733    0   2 -1.346085 -2.041893    0        1  1.112172      0      0.6   \n",
      "739    1   0 -0.205463  0.164513    0        1  0.499898      1      0.0   \n",
      "843    1   3  1.619532  0.512893    0        0 -1.074521      0      0.0   \n",
      "878    1   0 -0.661712 -1.132235    0        1 -1.599327      0      1.4   \n",
      "\n",
      "     slope  ca  thal  \n",
      "0        2   2     3  \n",
      "1        0   0     3  \n",
      "2        0   0     3  \n",
      "3        2   1     3  \n",
      "4        1   3     2  \n",
      "..     ...  ..   ...  \n",
      "723      1   0     2  \n",
      "733      1   0     2  \n",
      "739      2   1     3  \n",
      "843      2   0     2  \n",
      "878      1   1     3  \n",
      "\n",
      "[302 rows x 12 columns]\n"
     ]
    }
   ],
   "source": [
    "print(X)"
   ]
  },
  {
   "cell_type": "code",
   "execution_count": 24,
   "id": "a9ece3b7",
   "metadata": {
    "execution": {
     "iopub.execute_input": "2023-06-28T22:00:28.583735Z",
     "iopub.status.busy": "2023-06-28T22:00:28.583348Z",
     "iopub.status.idle": "2023-06-28T22:00:28.713938Z",
     "shell.execute_reply": "2023-06-28T22:00:28.712654Z"
    },
    "papermill": {
     "duration": 0.157852,
     "end_time": "2023-06-28T22:00:28.717048",
     "exception": false,
     "start_time": "2023-06-28T22:00:28.559196",
     "status": "completed"
    },
    "tags": []
   },
   "outputs": [],
   "source": [
    "#splitting the data set into training data and test data \n",
    "from sklearn.model_selection import train_test_split\n",
    "from sklearn.model_selection import cross_val_score\n",
    "from sklearn.metrics import accuracy_score"
   ]
  },
  {
   "cell_type": "code",
   "execution_count": 25,
   "id": "529de1b0",
   "metadata": {
    "execution": {
     "iopub.execute_input": "2023-06-28T22:00:28.758211Z",
     "iopub.status.busy": "2023-06-28T22:00:28.757685Z",
     "iopub.status.idle": "2023-06-28T22:00:28.765592Z",
     "shell.execute_reply": "2023-06-28T22:00:28.764136Z"
    },
    "papermill": {
     "duration": 0.0315,
     "end_time": "2023-06-28T22:00:28.768154",
     "exception": false,
     "start_time": "2023-06-28T22:00:28.736654",
     "status": "completed"
    },
    "tags": []
   },
   "outputs": [],
   "source": [
    "def model_val(model,X,Y):\n",
    "    X_train,X_test,Y_train,Y_test=train_test_split(X,Y,test_size=0.2,random_state=42)\n",
    "    model.fit(X_train,Y_train)\n",
    "    y_pred=model.predict(X_test)\n",
    "    print(f\"{model} accuracy score is{accuracy_score(Y_test,y_pred)}\")\n",
    "    score=cross_val_score(model,X,Y,cv=5)\n",
    "    print(f\"{model} cross val score is{np.mean(score)}\")\n",
    "    \n",
    "    "
   ]
  },
  {
   "cell_type": "code",
   "execution_count": 26,
   "id": "74c79e95",
   "metadata": {
    "execution": {
     "iopub.execute_input": "2023-06-28T22:00:28.810432Z",
     "iopub.status.busy": "2023-06-28T22:00:28.808798Z",
     "iopub.status.idle": "2023-06-28T22:00:28.929565Z",
     "shell.execute_reply": "2023-06-28T22:00:28.928080Z"
    },
    "papermill": {
     "duration": 0.144974,
     "end_time": "2023-06-28T22:00:28.932676",
     "exception": false,
     "start_time": "2023-06-28T22:00:28.787702",
     "status": "completed"
    },
    "tags": []
   },
   "outputs": [],
   "source": [
    "#MODELS\n",
    "#1.Logistic Regression\n",
    "from sklearn.linear_model import LogisticRegression"
   ]
  },
  {
   "cell_type": "code",
   "execution_count": 27,
   "id": "e1aa976b",
   "metadata": {
    "execution": {
     "iopub.execute_input": "2023-06-28T22:00:28.974841Z",
     "iopub.status.busy": "2023-06-28T22:00:28.974435Z",
     "iopub.status.idle": "2023-06-28T22:00:29.081827Z",
     "shell.execute_reply": "2023-06-28T22:00:29.080123Z"
    },
    "papermill": {
     "duration": 0.131637,
     "end_time": "2023-06-28T22:00:29.084544",
     "exception": false,
     "start_time": "2023-06-28T22:00:28.952907",
     "status": "completed"
    },
    "tags": []
   },
   "outputs": [
    {
     "name": "stdout",
     "output_type": "stream",
     "text": [
      "LogisticRegression() accuracy score is0.7868852459016393\n",
      "LogisticRegression() cross val score is0.8345901639344262\n"
     ]
    }
   ],
   "source": [
    "model=LogisticRegression()\n",
    "model_val(model,X,Y)\n",
    "\n",
    "    "
   ]
  },
  {
   "cell_type": "code",
   "execution_count": 28,
   "id": "15986c34",
   "metadata": {
    "execution": {
     "iopub.execute_input": "2023-06-28T22:00:29.127081Z",
     "iopub.status.busy": "2023-06-28T22:00:29.126608Z",
     "iopub.status.idle": "2023-06-28T22:00:29.132305Z",
     "shell.execute_reply": "2023-06-28T22:00:29.130904Z"
    },
    "papermill": {
     "duration": 0.030263,
     "end_time": "2023-06-28T22:00:29.134556",
     "exception": false,
     "start_time": "2023-06-28T22:00:29.104293",
     "status": "completed"
    },
    "tags": []
   },
   "outputs": [],
   "source": [
    "#2.SVC\n",
    "from sklearn import svm\n"
   ]
  },
  {
   "cell_type": "code",
   "execution_count": 29,
   "id": "dac781b9",
   "metadata": {
    "execution": {
     "iopub.execute_input": "2023-06-28T22:00:29.175772Z",
     "iopub.status.busy": "2023-06-28T22:00:29.175384Z",
     "iopub.status.idle": "2023-06-28T22:00:29.179845Z",
     "shell.execute_reply": "2023-06-28T22:00:29.178928Z"
    },
    "papermill": {
     "duration": 0.028026,
     "end_time": "2023-06-28T22:00:29.182226",
     "exception": false,
     "start_time": "2023-06-28T22:00:29.154200",
     "status": "completed"
    },
    "tags": []
   },
   "outputs": [],
   "source": [
    "model=svm.SVC()"
   ]
  },
  {
   "cell_type": "code",
   "execution_count": 30,
   "id": "9afef121",
   "metadata": {
    "execution": {
     "iopub.execute_input": "2023-06-28T22:00:29.225703Z",
     "iopub.status.busy": "2023-06-28T22:00:29.225335Z",
     "iopub.status.idle": "2023-06-28T22:00:29.289797Z",
     "shell.execute_reply": "2023-06-28T22:00:29.288319Z"
    },
    "papermill": {
     "duration": 0.090262,
     "end_time": "2023-06-28T22:00:29.292731",
     "exception": false,
     "start_time": "2023-06-28T22:00:29.202469",
     "status": "completed"
    },
    "tags": []
   },
   "outputs": [
    {
     "name": "stdout",
     "output_type": "stream",
     "text": [
      "SVC() accuracy score is0.8360655737704918\n",
      "SVC() cross val score is0.8478142076502733\n"
     ]
    }
   ],
   "source": [
    "model_val(model,X,Y)"
   ]
  },
  {
   "cell_type": "code",
   "execution_count": 31,
   "id": "5f8ea365",
   "metadata": {
    "execution": {
     "iopub.execute_input": "2023-06-28T22:00:29.334496Z",
     "iopub.status.busy": "2023-06-28T22:00:29.334093Z",
     "iopub.status.idle": "2023-06-28T22:00:29.512983Z",
     "shell.execute_reply": "2023-06-28T22:00:29.511943Z"
    },
    "papermill": {
     "duration": 0.202912,
     "end_time": "2023-06-28T22:00:29.516167",
     "exception": false,
     "start_time": "2023-06-28T22:00:29.313255",
     "status": "completed"
    },
    "tags": []
   },
   "outputs": [],
   "source": [
    "#3. Decision tree\n",
    "from sklearn.tree import DecisionTreeClassifier"
   ]
  },
  {
   "cell_type": "code",
   "execution_count": 32,
   "id": "eaedad15",
   "metadata": {
    "execution": {
     "iopub.execute_input": "2023-06-28T22:00:29.556961Z",
     "iopub.status.busy": "2023-06-28T22:00:29.556555Z",
     "iopub.status.idle": "2023-06-28T22:00:29.561728Z",
     "shell.execute_reply": "2023-06-28T22:00:29.560579Z"
    },
    "papermill": {
     "duration": 0.028608,
     "end_time": "2023-06-28T22:00:29.564195",
     "exception": false,
     "start_time": "2023-06-28T22:00:29.535587",
     "status": "completed"
    },
    "tags": []
   },
   "outputs": [],
   "source": [
    "model=DecisionTreeClassifier()"
   ]
  },
  {
   "cell_type": "code",
   "execution_count": 33,
   "id": "e2a3422c",
   "metadata": {
    "execution": {
     "iopub.execute_input": "2023-06-28T22:00:29.607704Z",
     "iopub.status.busy": "2023-06-28T22:00:29.607315Z",
     "iopub.status.idle": "2023-06-28T22:00:29.654973Z",
     "shell.execute_reply": "2023-06-28T22:00:29.653792Z"
    },
    "papermill": {
     "duration": 0.070838,
     "end_time": "2023-06-28T22:00:29.657395",
     "exception": false,
     "start_time": "2023-06-28T22:00:29.586557",
     "status": "completed"
    },
    "tags": []
   },
   "outputs": [
    {
     "name": "stdout",
     "output_type": "stream",
     "text": [
      "DecisionTreeClassifier() accuracy score is0.6885245901639344\n",
      "DecisionTreeClassifier() cross val score is0.7683060109289617\n"
     ]
    }
   ],
   "source": [
    "model_val(model,X,Y)"
   ]
  },
  {
   "cell_type": "code",
   "execution_count": 34,
   "id": "d71d97dc",
   "metadata": {
    "execution": {
     "iopub.execute_input": "2023-06-28T22:00:29.699564Z",
     "iopub.status.busy": "2023-06-28T22:00:29.698414Z",
     "iopub.status.idle": "2023-06-28T22:00:29.836567Z",
     "shell.execute_reply": "2023-06-28T22:00:29.835495Z"
    },
    "papermill": {
     "duration": 0.162092,
     "end_time": "2023-06-28T22:00:29.839234",
     "exception": false,
     "start_time": "2023-06-28T22:00:29.677142",
     "status": "completed"
    },
    "tags": []
   },
   "outputs": [],
   "source": [
    "#4.RainForestClassifier\n",
    "from sklearn.ensemble import RandomForestClassifier"
   ]
  },
  {
   "cell_type": "code",
   "execution_count": 35,
   "id": "ff201ef0",
   "metadata": {
    "execution": {
     "iopub.execute_input": "2023-06-28T22:00:29.880031Z",
     "iopub.status.busy": "2023-06-28T22:00:29.879614Z",
     "iopub.status.idle": "2023-06-28T22:00:29.884556Z",
     "shell.execute_reply": "2023-06-28T22:00:29.883488Z"
    },
    "papermill": {
     "duration": 0.027999,
     "end_time": "2023-06-28T22:00:29.886937",
     "exception": false,
     "start_time": "2023-06-28T22:00:29.858938",
     "status": "completed"
    },
    "tags": []
   },
   "outputs": [],
   "source": [
    "model=RandomForestClassifier()"
   ]
  },
  {
   "cell_type": "code",
   "execution_count": 36,
   "id": "ed40a56a",
   "metadata": {
    "execution": {
     "iopub.execute_input": "2023-06-28T22:00:29.929626Z",
     "iopub.status.busy": "2023-06-28T22:00:29.928930Z",
     "iopub.status.idle": "2023-06-28T22:00:31.430287Z",
     "shell.execute_reply": "2023-06-28T22:00:31.429033Z"
    },
    "papermill": {
     "duration": 1.526319,
     "end_time": "2023-06-28T22:00:31.432799",
     "exception": false,
     "start_time": "2023-06-28T22:00:29.906480",
     "status": "completed"
    },
    "tags": []
   },
   "outputs": [
    {
     "name": "stdout",
     "output_type": "stream",
     "text": [
      "RandomForestClassifier() accuracy score is0.8524590163934426\n",
      "RandomForestClassifier() cross val score is0.8342622950819673\n"
     ]
    }
   ],
   "source": [
    "model_val(model,X,Y)"
   ]
  },
  {
   "cell_type": "code",
   "execution_count": 37,
   "id": "c2522017",
   "metadata": {
    "execution": {
     "iopub.execute_input": "2023-06-28T22:00:31.474493Z",
     "iopub.status.busy": "2023-06-28T22:00:31.473471Z",
     "iopub.status.idle": "2023-06-28T22:00:31.478924Z",
     "shell.execute_reply": "2023-06-28T22:00:31.477747Z"
    },
    "papermill": {
     "duration": 0.028856,
     "end_time": "2023-06-28T22:00:31.481237",
     "exception": false,
     "start_time": "2023-06-28T22:00:31.452381",
     "status": "completed"
    },
    "tags": []
   },
   "outputs": [],
   "source": [
    "#5. GradientBoostingClassifier\n",
    "from sklearn.ensemble import GradientBoostingClassifier"
   ]
  },
  {
   "cell_type": "code",
   "execution_count": 38,
   "id": "f390e62c",
   "metadata": {
    "execution": {
     "iopub.execute_input": "2023-06-28T22:00:31.525278Z",
     "iopub.status.busy": "2023-06-28T22:00:31.524771Z",
     "iopub.status.idle": "2023-06-28T22:00:31.530482Z",
     "shell.execute_reply": "2023-06-28T22:00:31.529293Z"
    },
    "papermill": {
     "duration": 0.030394,
     "end_time": "2023-06-28T22:00:31.533615",
     "exception": false,
     "start_time": "2023-06-28T22:00:31.503221",
     "status": "completed"
    },
    "tags": []
   },
   "outputs": [],
   "source": [
    "model=GradientBoostingClassifier()"
   ]
  },
  {
   "cell_type": "code",
   "execution_count": 39,
   "id": "d9ca4e78",
   "metadata": {
    "execution": {
     "iopub.execute_input": "2023-06-28T22:00:31.577607Z",
     "iopub.status.busy": "2023-06-28T22:00:31.577223Z",
     "iopub.status.idle": "2023-06-28T22:00:32.451855Z",
     "shell.execute_reply": "2023-06-28T22:00:32.450426Z"
    },
    "papermill": {
     "duration": 0.9015,
     "end_time": "2023-06-28T22:00:32.454736",
     "exception": false,
     "start_time": "2023-06-28T22:00:31.553236",
     "status": "completed"
    },
    "tags": []
   },
   "outputs": [
    {
     "name": "stdout",
     "output_type": "stream",
     "text": [
      "GradientBoostingClassifier() accuracy score is0.7704918032786885\n",
      "GradientBoostingClassifier() cross val score is0.7846448087431694\n"
     ]
    }
   ],
   "source": [
    "model_val(model,X,Y)"
   ]
  },
  {
   "cell_type": "code",
   "execution_count": 40,
   "id": "102b1088",
   "metadata": {
    "execution": {
     "iopub.execute_input": "2023-06-28T22:00:32.501564Z",
     "iopub.status.busy": "2023-06-28T22:00:32.500346Z",
     "iopub.status.idle": "2023-06-28T22:00:32.505763Z",
     "shell.execute_reply": "2023-06-28T22:00:32.504941Z"
    },
    "papermill": {
     "duration": 0.031134,
     "end_time": "2023-06-28T22:00:32.508122",
     "exception": false,
     "start_time": "2023-06-28T22:00:32.476988",
     "status": "completed"
    },
    "tags": []
   },
   "outputs": [],
   "source": [
    "# KNeighbour Classifier\n",
    "from sklearn.neighbors import KNeighborsClassifier\n"
   ]
  },
  {
   "cell_type": "code",
   "execution_count": 41,
   "id": "2c6ab277",
   "metadata": {
    "execution": {
     "iopub.execute_input": "2023-06-28T22:00:32.550752Z",
     "iopub.status.busy": "2023-06-28T22:00:32.549947Z",
     "iopub.status.idle": "2023-06-28T22:00:32.554869Z",
     "shell.execute_reply": "2023-06-28T22:00:32.554130Z"
    },
    "papermill": {
     "duration": 0.029255,
     "end_time": "2023-06-28T22:00:32.557119",
     "exception": false,
     "start_time": "2023-06-28T22:00:32.527864",
     "status": "completed"
    },
    "tags": []
   },
   "outputs": [],
   "source": [
    "model=KNeighborsClassifier()"
   ]
  },
  {
   "cell_type": "code",
   "execution_count": 42,
   "id": "67e2a871",
   "metadata": {
    "execution": {
     "iopub.execute_input": "2023-06-28T22:00:32.602489Z",
     "iopub.status.busy": "2023-06-28T22:00:32.601852Z",
     "iopub.status.idle": "2023-06-28T22:00:32.668936Z",
     "shell.execute_reply": "2023-06-28T22:00:32.667819Z"
    },
    "papermill": {
     "duration": 0.094589,
     "end_time": "2023-06-28T22:00:32.671348",
     "exception": false,
     "start_time": "2023-06-28T22:00:32.576759",
     "status": "completed"
    },
    "tags": []
   },
   "outputs": [
    {
     "name": "stdout",
     "output_type": "stream",
     "text": [
      "KNeighborsClassifier() accuracy score is0.7377049180327869\n",
      "KNeighborsClassifier() cross val score is0.8079234972677595\n"
     ]
    }
   ],
   "source": [
    "model_val(model,X,Y)"
   ]
  },
  {
   "cell_type": "code",
   "execution_count": 43,
   "id": "3ad83784",
   "metadata": {
    "execution": {
     "iopub.execute_input": "2023-06-28T22:00:32.714997Z",
     "iopub.status.busy": "2023-06-28T22:00:32.713887Z",
     "iopub.status.idle": "2023-06-28T22:00:32.722442Z",
     "shell.execute_reply": "2023-06-28T22:00:32.721523Z"
    },
    "papermill": {
     "duration": 0.033246,
     "end_time": "2023-06-28T22:00:32.724556",
     "exception": false,
     "start_time": "2023-06-28T22:00:32.691310",
     "status": "completed"
    },
    "tags": []
   },
   "outputs": [
    {
     "data": {
      "text/html": [
       "<style>#sk-container-id-1 {color: black;background-color: white;}#sk-container-id-1 pre{padding: 0;}#sk-container-id-1 div.sk-toggleable {background-color: white;}#sk-container-id-1 label.sk-toggleable__label {cursor: pointer;display: block;width: 100%;margin-bottom: 0;padding: 0.3em;box-sizing: border-box;text-align: center;}#sk-container-id-1 label.sk-toggleable__label-arrow:before {content: \"▸\";float: left;margin-right: 0.25em;color: #696969;}#sk-container-id-1 label.sk-toggleable__label-arrow:hover:before {color: black;}#sk-container-id-1 div.sk-estimator:hover label.sk-toggleable__label-arrow:before {color: black;}#sk-container-id-1 div.sk-toggleable__content {max-height: 0;max-width: 0;overflow: hidden;text-align: left;background-color: #f0f8ff;}#sk-container-id-1 div.sk-toggleable__content pre {margin: 0.2em;color: black;border-radius: 0.25em;background-color: #f0f8ff;}#sk-container-id-1 input.sk-toggleable__control:checked~div.sk-toggleable__content {max-height: 200px;max-width: 100%;overflow: auto;}#sk-container-id-1 input.sk-toggleable__control:checked~label.sk-toggleable__label-arrow:before {content: \"▾\";}#sk-container-id-1 div.sk-estimator input.sk-toggleable__control:checked~label.sk-toggleable__label {background-color: #d4ebff;}#sk-container-id-1 div.sk-label input.sk-toggleable__control:checked~label.sk-toggleable__label {background-color: #d4ebff;}#sk-container-id-1 input.sk-hidden--visually {border: 0;clip: rect(1px 1px 1px 1px);clip: rect(1px, 1px, 1px, 1px);height: 1px;margin: -1px;overflow: hidden;padding: 0;position: absolute;width: 1px;}#sk-container-id-1 div.sk-estimator {font-family: monospace;background-color: #f0f8ff;border: 1px dotted black;border-radius: 0.25em;box-sizing: border-box;margin-bottom: 0.5em;}#sk-container-id-1 div.sk-estimator:hover {background-color: #d4ebff;}#sk-container-id-1 div.sk-parallel-item::after {content: \"\";width: 100%;border-bottom: 1px solid gray;flex-grow: 1;}#sk-container-id-1 div.sk-label:hover label.sk-toggleable__label {background-color: #d4ebff;}#sk-container-id-1 div.sk-serial::before {content: \"\";position: absolute;border-left: 1px solid gray;box-sizing: border-box;top: 0;bottom: 0;left: 50%;z-index: 0;}#sk-container-id-1 div.sk-serial {display: flex;flex-direction: column;align-items: center;background-color: white;padding-right: 0.2em;padding-left: 0.2em;position: relative;}#sk-container-id-1 div.sk-item {position: relative;z-index: 1;}#sk-container-id-1 div.sk-parallel {display: flex;align-items: stretch;justify-content: center;background-color: white;position: relative;}#sk-container-id-1 div.sk-item::before, #sk-container-id-1 div.sk-parallel-item::before {content: \"\";position: absolute;border-left: 1px solid gray;box-sizing: border-box;top: 0;bottom: 0;left: 50%;z-index: -1;}#sk-container-id-1 div.sk-parallel-item {display: flex;flex-direction: column;z-index: 1;position: relative;background-color: white;}#sk-container-id-1 div.sk-parallel-item:first-child::after {align-self: flex-end;width: 50%;}#sk-container-id-1 div.sk-parallel-item:last-child::after {align-self: flex-start;width: 50%;}#sk-container-id-1 div.sk-parallel-item:only-child::after {width: 0;}#sk-container-id-1 div.sk-dashed-wrapped {border: 1px dashed gray;margin: 0 0.4em 0.5em 0.4em;box-sizing: border-box;padding-bottom: 0.4em;background-color: white;}#sk-container-id-1 div.sk-label label {font-family: monospace;font-weight: bold;display: inline-block;line-height: 1.2em;}#sk-container-id-1 div.sk-label-container {text-align: center;}#sk-container-id-1 div.sk-container {/* jupyter's `normalize.less` sets `[hidden] { display: none; }` but bootstrap.min.css set `[hidden] { display: none !important; }` so we also need the `!important` here to be able to override the default hidden behavior on the sphinx rendered scikit-learn.org. See: https://github.com/scikit-learn/scikit-learn/issues/21755 */display: inline-block !important;position: relative;}#sk-container-id-1 div.sk-text-repr-fallback {display: none;}</style><div id=\"sk-container-id-1\" class=\"sk-top-container\"><div class=\"sk-text-repr-fallback\"><pre>RandomForestClassifier()</pre><b>In a Jupyter environment, please rerun this cell to show the HTML representation or trust the notebook. <br />On GitHub, the HTML representation is unable to render, please try loading this page with nbviewer.org.</b></div><div class=\"sk-container\" hidden><div class=\"sk-item\"><div class=\"sk-estimator sk-toggleable\"><input class=\"sk-toggleable__control sk-hidden--visually\" id=\"sk-estimator-id-1\" type=\"checkbox\" checked><label for=\"sk-estimator-id-1\" class=\"sk-toggleable__label sk-toggleable__label-arrow\">RandomForestClassifier</label><div class=\"sk-toggleable__content\"><pre>RandomForestClassifier()</pre></div></div></div></div></div>"
      ],
      "text/plain": [
       "RandomForestClassifier()"
      ]
     },
     "execution_count": 43,
     "metadata": {},
     "output_type": "execute_result"
    }
   ],
   "source": [
    "#hypertuning\n",
    "from sklearn.model_selection import RandomizedSearchCV\n",
    "RandomForestClassifier()"
   ]
  },
  {
   "cell_type": "code",
   "execution_count": 44,
   "id": "bb9545b6",
   "metadata": {
    "execution": {
     "iopub.execute_input": "2023-06-28T22:00:32.768405Z",
     "iopub.status.busy": "2023-06-28T22:00:32.767697Z",
     "iopub.status.idle": "2023-06-28T22:00:32.773425Z",
     "shell.execute_reply": "2023-06-28T22:00:32.772371Z"
    },
    "papermill": {
     "duration": 0.030985,
     "end_time": "2023-06-28T22:00:32.775963",
     "exception": false,
     "start_time": "2023-06-28T22:00:32.744978",
     "status": "completed"
    },
    "tags": []
   },
   "outputs": [],
   "source": [
    "rf_grid={'n_estimators': np.arange(10,1000,10),'max_features':['auto','sqrt'],'max_depth':[None,3,5,10,20,30],'min_samples_split':[2,5,20,50,100],'min_samples_leaf':[1,2,5,10]}"
   ]
  },
  {
   "cell_type": "code",
   "execution_count": 45,
   "id": "989c1e9f",
   "metadata": {
    "execution": {
     "iopub.execute_input": "2023-06-28T22:00:32.819562Z",
     "iopub.status.busy": "2023-06-28T22:00:32.818751Z",
     "iopub.status.idle": "2023-06-28T22:00:32.824420Z",
     "shell.execute_reply": "2023-06-28T22:00:32.823347Z"
    },
    "papermill": {
     "duration": 0.030684,
     "end_time": "2023-06-28T22:00:32.826954",
     "exception": false,
     "start_time": "2023-06-28T22:00:32.796270",
     "status": "completed"
    },
    "tags": []
   },
   "outputs": [],
   "source": [
    "rs_rf=RandomizedSearchCV(RandomForestClassifier(),param_distributions=rf_grid,cv=5,n_iter=20,verbose=True)"
   ]
  },
  {
   "cell_type": "code",
   "execution_count": 46,
   "id": "29838fbb",
   "metadata": {
    "execution": {
     "iopub.execute_input": "2023-06-28T22:00:32.869523Z",
     "iopub.status.busy": "2023-06-28T22:00:32.869112Z",
     "iopub.status.idle": "2023-06-28T22:02:32.181375Z",
     "shell.execute_reply": "2023-06-28T22:02:32.180109Z"
    },
    "papermill": {
     "duration": 119.336713,
     "end_time": "2023-06-28T22:02:32.183999",
     "exception": false,
     "start_time": "2023-06-28T22:00:32.847286",
     "status": "completed"
    },
    "tags": []
   },
   "outputs": [
    {
     "name": "stdout",
     "output_type": "stream",
     "text": [
      "Fitting 5 folds for each of 20 candidates, totalling 100 fits\n"
     ]
    },
    {
     "name": "stderr",
     "output_type": "stream",
     "text": [
      "/opt/conda/lib/python3.10/site-packages/sklearn/ensemble/_forest.py:424: FutureWarning: `max_features='auto'` has been deprecated in 1.1 and will be removed in 1.3. To keep the past behaviour, explicitly set `max_features='sqrt'` or remove this parameter as it is also the default value for RandomForestClassifiers and ExtraTreesClassifiers.\n",
      "  warn(\n",
      "/opt/conda/lib/python3.10/site-packages/sklearn/ensemble/_forest.py:424: FutureWarning: `max_features='auto'` has been deprecated in 1.1 and will be removed in 1.3. To keep the past behaviour, explicitly set `max_features='sqrt'` or remove this parameter as it is also the default value for RandomForestClassifiers and ExtraTreesClassifiers.\n",
      "  warn(\n",
      "/opt/conda/lib/python3.10/site-packages/sklearn/ensemble/_forest.py:424: FutureWarning: `max_features='auto'` has been deprecated in 1.1 and will be removed in 1.3. To keep the past behaviour, explicitly set `max_features='sqrt'` or remove this parameter as it is also the default value for RandomForestClassifiers and ExtraTreesClassifiers.\n",
      "  warn(\n",
      "/opt/conda/lib/python3.10/site-packages/sklearn/ensemble/_forest.py:424: FutureWarning: `max_features='auto'` has been deprecated in 1.1 and will be removed in 1.3. To keep the past behaviour, explicitly set `max_features='sqrt'` or remove this parameter as it is also the default value for RandomForestClassifiers and ExtraTreesClassifiers.\n",
      "  warn(\n",
      "/opt/conda/lib/python3.10/site-packages/sklearn/ensemble/_forest.py:424: FutureWarning: `max_features='auto'` has been deprecated in 1.1 and will be removed in 1.3. To keep the past behaviour, explicitly set `max_features='sqrt'` or remove this parameter as it is also the default value for RandomForestClassifiers and ExtraTreesClassifiers.\n",
      "  warn(\n",
      "/opt/conda/lib/python3.10/site-packages/sklearn/ensemble/_forest.py:424: FutureWarning: `max_features='auto'` has been deprecated in 1.1 and will be removed in 1.3. To keep the past behaviour, explicitly set `max_features='sqrt'` or remove this parameter as it is also the default value for RandomForestClassifiers and ExtraTreesClassifiers.\n",
      "  warn(\n",
      "/opt/conda/lib/python3.10/site-packages/sklearn/ensemble/_forest.py:424: FutureWarning: `max_features='auto'` has been deprecated in 1.1 and will be removed in 1.3. To keep the past behaviour, explicitly set `max_features='sqrt'` or remove this parameter as it is also the default value for RandomForestClassifiers and ExtraTreesClassifiers.\n",
      "  warn(\n",
      "/opt/conda/lib/python3.10/site-packages/sklearn/ensemble/_forest.py:424: FutureWarning: `max_features='auto'` has been deprecated in 1.1 and will be removed in 1.3. To keep the past behaviour, explicitly set `max_features='sqrt'` or remove this parameter as it is also the default value for RandomForestClassifiers and ExtraTreesClassifiers.\n",
      "  warn(\n",
      "/opt/conda/lib/python3.10/site-packages/sklearn/ensemble/_forest.py:424: FutureWarning: `max_features='auto'` has been deprecated in 1.1 and will be removed in 1.3. To keep the past behaviour, explicitly set `max_features='sqrt'` or remove this parameter as it is also the default value for RandomForestClassifiers and ExtraTreesClassifiers.\n",
      "  warn(\n",
      "/opt/conda/lib/python3.10/site-packages/sklearn/ensemble/_forest.py:424: FutureWarning: `max_features='auto'` has been deprecated in 1.1 and will be removed in 1.3. To keep the past behaviour, explicitly set `max_features='sqrt'` or remove this parameter as it is also the default value for RandomForestClassifiers and ExtraTreesClassifiers.\n",
      "  warn(\n",
      "/opt/conda/lib/python3.10/site-packages/sklearn/ensemble/_forest.py:424: FutureWarning: `max_features='auto'` has been deprecated in 1.1 and will be removed in 1.3. To keep the past behaviour, explicitly set `max_features='sqrt'` or remove this parameter as it is also the default value for RandomForestClassifiers and ExtraTreesClassifiers.\n",
      "  warn(\n",
      "/opt/conda/lib/python3.10/site-packages/sklearn/ensemble/_forest.py:424: FutureWarning: `max_features='auto'` has been deprecated in 1.1 and will be removed in 1.3. To keep the past behaviour, explicitly set `max_features='sqrt'` or remove this parameter as it is also the default value for RandomForestClassifiers and ExtraTreesClassifiers.\n",
      "  warn(\n",
      "/opt/conda/lib/python3.10/site-packages/sklearn/ensemble/_forest.py:424: FutureWarning: `max_features='auto'` has been deprecated in 1.1 and will be removed in 1.3. To keep the past behaviour, explicitly set `max_features='sqrt'` or remove this parameter as it is also the default value for RandomForestClassifiers and ExtraTreesClassifiers.\n",
      "  warn(\n",
      "/opt/conda/lib/python3.10/site-packages/sklearn/ensemble/_forest.py:424: FutureWarning: `max_features='auto'` has been deprecated in 1.1 and will be removed in 1.3. To keep the past behaviour, explicitly set `max_features='sqrt'` or remove this parameter as it is also the default value for RandomForestClassifiers and ExtraTreesClassifiers.\n",
      "  warn(\n",
      "/opt/conda/lib/python3.10/site-packages/sklearn/ensemble/_forest.py:424: FutureWarning: `max_features='auto'` has been deprecated in 1.1 and will be removed in 1.3. To keep the past behaviour, explicitly set `max_features='sqrt'` or remove this parameter as it is also the default value for RandomForestClassifiers and ExtraTreesClassifiers.\n",
      "  warn(\n",
      "/opt/conda/lib/python3.10/site-packages/sklearn/ensemble/_forest.py:424: FutureWarning: `max_features='auto'` has been deprecated in 1.1 and will be removed in 1.3. To keep the past behaviour, explicitly set `max_features='sqrt'` or remove this parameter as it is also the default value for RandomForestClassifiers and ExtraTreesClassifiers.\n",
      "  warn(\n",
      "/opt/conda/lib/python3.10/site-packages/sklearn/ensemble/_forest.py:424: FutureWarning: `max_features='auto'` has been deprecated in 1.1 and will be removed in 1.3. To keep the past behaviour, explicitly set `max_features='sqrt'` or remove this parameter as it is also the default value for RandomForestClassifiers and ExtraTreesClassifiers.\n",
      "  warn(\n",
      "/opt/conda/lib/python3.10/site-packages/sklearn/ensemble/_forest.py:424: FutureWarning: `max_features='auto'` has been deprecated in 1.1 and will be removed in 1.3. To keep the past behaviour, explicitly set `max_features='sqrt'` or remove this parameter as it is also the default value for RandomForestClassifiers and ExtraTreesClassifiers.\n",
      "  warn(\n",
      "/opt/conda/lib/python3.10/site-packages/sklearn/ensemble/_forest.py:424: FutureWarning: `max_features='auto'` has been deprecated in 1.1 and will be removed in 1.3. To keep the past behaviour, explicitly set `max_features='sqrt'` or remove this parameter as it is also the default value for RandomForestClassifiers and ExtraTreesClassifiers.\n",
      "  warn(\n",
      "/opt/conda/lib/python3.10/site-packages/sklearn/ensemble/_forest.py:424: FutureWarning: `max_features='auto'` has been deprecated in 1.1 and will be removed in 1.3. To keep the past behaviour, explicitly set `max_features='sqrt'` or remove this parameter as it is also the default value for RandomForestClassifiers and ExtraTreesClassifiers.\n",
      "  warn(\n",
      "/opt/conda/lib/python3.10/site-packages/sklearn/ensemble/_forest.py:424: FutureWarning: `max_features='auto'` has been deprecated in 1.1 and will be removed in 1.3. To keep the past behaviour, explicitly set `max_features='sqrt'` or remove this parameter as it is also the default value for RandomForestClassifiers and ExtraTreesClassifiers.\n",
      "  warn(\n",
      "/opt/conda/lib/python3.10/site-packages/sklearn/ensemble/_forest.py:424: FutureWarning: `max_features='auto'` has been deprecated in 1.1 and will be removed in 1.3. To keep the past behaviour, explicitly set `max_features='sqrt'` or remove this parameter as it is also the default value for RandomForestClassifiers and ExtraTreesClassifiers.\n",
      "  warn(\n",
      "/opt/conda/lib/python3.10/site-packages/sklearn/ensemble/_forest.py:424: FutureWarning: `max_features='auto'` has been deprecated in 1.1 and will be removed in 1.3. To keep the past behaviour, explicitly set `max_features='sqrt'` or remove this parameter as it is also the default value for RandomForestClassifiers and ExtraTreesClassifiers.\n",
      "  warn(\n",
      "/opt/conda/lib/python3.10/site-packages/sklearn/ensemble/_forest.py:424: FutureWarning: `max_features='auto'` has been deprecated in 1.1 and will be removed in 1.3. To keep the past behaviour, explicitly set `max_features='sqrt'` or remove this parameter as it is also the default value for RandomForestClassifiers and ExtraTreesClassifiers.\n",
      "  warn(\n",
      "/opt/conda/lib/python3.10/site-packages/sklearn/ensemble/_forest.py:424: FutureWarning: `max_features='auto'` has been deprecated in 1.1 and will be removed in 1.3. To keep the past behaviour, explicitly set `max_features='sqrt'` or remove this parameter as it is also the default value for RandomForestClassifiers and ExtraTreesClassifiers.\n",
      "  warn(\n",
      "/opt/conda/lib/python3.10/site-packages/sklearn/ensemble/_forest.py:424: FutureWarning: `max_features='auto'` has been deprecated in 1.1 and will be removed in 1.3. To keep the past behaviour, explicitly set `max_features='sqrt'` or remove this parameter as it is also the default value for RandomForestClassifiers and ExtraTreesClassifiers.\n",
      "  warn(\n",
      "/opt/conda/lib/python3.10/site-packages/sklearn/ensemble/_forest.py:424: FutureWarning: `max_features='auto'` has been deprecated in 1.1 and will be removed in 1.3. To keep the past behaviour, explicitly set `max_features='sqrt'` or remove this parameter as it is also the default value for RandomForestClassifiers and ExtraTreesClassifiers.\n",
      "  warn(\n",
      "/opt/conda/lib/python3.10/site-packages/sklearn/ensemble/_forest.py:424: FutureWarning: `max_features='auto'` has been deprecated in 1.1 and will be removed in 1.3. To keep the past behaviour, explicitly set `max_features='sqrt'` or remove this parameter as it is also the default value for RandomForestClassifiers and ExtraTreesClassifiers.\n",
      "  warn(\n",
      "/opt/conda/lib/python3.10/site-packages/sklearn/ensemble/_forest.py:424: FutureWarning: `max_features='auto'` has been deprecated in 1.1 and will be removed in 1.3. To keep the past behaviour, explicitly set `max_features='sqrt'` or remove this parameter as it is also the default value for RandomForestClassifiers and ExtraTreesClassifiers.\n",
      "  warn(\n",
      "/opt/conda/lib/python3.10/site-packages/sklearn/ensemble/_forest.py:424: FutureWarning: `max_features='auto'` has been deprecated in 1.1 and will be removed in 1.3. To keep the past behaviour, explicitly set `max_features='sqrt'` or remove this parameter as it is also the default value for RandomForestClassifiers and ExtraTreesClassifiers.\n",
      "  warn(\n",
      "/opt/conda/lib/python3.10/site-packages/sklearn/ensemble/_forest.py:424: FutureWarning: `max_features='auto'` has been deprecated in 1.1 and will be removed in 1.3. To keep the past behaviour, explicitly set `max_features='sqrt'` or remove this parameter as it is also the default value for RandomForestClassifiers and ExtraTreesClassifiers.\n",
      "  warn(\n",
      "/opt/conda/lib/python3.10/site-packages/sklearn/ensemble/_forest.py:424: FutureWarning: `max_features='auto'` has been deprecated in 1.1 and will be removed in 1.3. To keep the past behaviour, explicitly set `max_features='sqrt'` or remove this parameter as it is also the default value for RandomForestClassifiers and ExtraTreesClassifiers.\n",
      "  warn(\n",
      "/opt/conda/lib/python3.10/site-packages/sklearn/ensemble/_forest.py:424: FutureWarning: `max_features='auto'` has been deprecated in 1.1 and will be removed in 1.3. To keep the past behaviour, explicitly set `max_features='sqrt'` or remove this parameter as it is also the default value for RandomForestClassifiers and ExtraTreesClassifiers.\n",
      "  warn(\n",
      "/opt/conda/lib/python3.10/site-packages/sklearn/ensemble/_forest.py:424: FutureWarning: `max_features='auto'` has been deprecated in 1.1 and will be removed in 1.3. To keep the past behaviour, explicitly set `max_features='sqrt'` or remove this parameter as it is also the default value for RandomForestClassifiers and ExtraTreesClassifiers.\n",
      "  warn(\n",
      "/opt/conda/lib/python3.10/site-packages/sklearn/ensemble/_forest.py:424: FutureWarning: `max_features='auto'` has been deprecated in 1.1 and will be removed in 1.3. To keep the past behaviour, explicitly set `max_features='sqrt'` or remove this parameter as it is also the default value for RandomForestClassifiers and ExtraTreesClassifiers.\n",
      "  warn(\n",
      "/opt/conda/lib/python3.10/site-packages/sklearn/ensemble/_forest.py:424: FutureWarning: `max_features='auto'` has been deprecated in 1.1 and will be removed in 1.3. To keep the past behaviour, explicitly set `max_features='sqrt'` or remove this parameter as it is also the default value for RandomForestClassifiers and ExtraTreesClassifiers.\n",
      "  warn(\n",
      "/opt/conda/lib/python3.10/site-packages/sklearn/ensemble/_forest.py:424: FutureWarning: `max_features='auto'` has been deprecated in 1.1 and will be removed in 1.3. To keep the past behaviour, explicitly set `max_features='sqrt'` or remove this parameter as it is also the default value for RandomForestClassifiers and ExtraTreesClassifiers.\n",
      "  warn(\n",
      "/opt/conda/lib/python3.10/site-packages/sklearn/ensemble/_forest.py:424: FutureWarning: `max_features='auto'` has been deprecated in 1.1 and will be removed in 1.3. To keep the past behaviour, explicitly set `max_features='sqrt'` or remove this parameter as it is also the default value for RandomForestClassifiers and ExtraTreesClassifiers.\n",
      "  warn(\n",
      "/opt/conda/lib/python3.10/site-packages/sklearn/ensemble/_forest.py:424: FutureWarning: `max_features='auto'` has been deprecated in 1.1 and will be removed in 1.3. To keep the past behaviour, explicitly set `max_features='sqrt'` or remove this parameter as it is also the default value for RandomForestClassifiers and ExtraTreesClassifiers.\n",
      "  warn(\n",
      "/opt/conda/lib/python3.10/site-packages/sklearn/ensemble/_forest.py:424: FutureWarning: `max_features='auto'` has been deprecated in 1.1 and will be removed in 1.3. To keep the past behaviour, explicitly set `max_features='sqrt'` or remove this parameter as it is also the default value for RandomForestClassifiers and ExtraTreesClassifiers.\n",
      "  warn(\n",
      "/opt/conda/lib/python3.10/site-packages/sklearn/ensemble/_forest.py:424: FutureWarning: `max_features='auto'` has been deprecated in 1.1 and will be removed in 1.3. To keep the past behaviour, explicitly set `max_features='sqrt'` or remove this parameter as it is also the default value for RandomForestClassifiers and ExtraTreesClassifiers.\n",
      "  warn(\n",
      "/opt/conda/lib/python3.10/site-packages/sklearn/ensemble/_forest.py:424: FutureWarning: `max_features='auto'` has been deprecated in 1.1 and will be removed in 1.3. To keep the past behaviour, explicitly set `max_features='sqrt'` or remove this parameter as it is also the default value for RandomForestClassifiers and ExtraTreesClassifiers.\n",
      "  warn(\n",
      "/opt/conda/lib/python3.10/site-packages/sklearn/ensemble/_forest.py:424: FutureWarning: `max_features='auto'` has been deprecated in 1.1 and will be removed in 1.3. To keep the past behaviour, explicitly set `max_features='sqrt'` or remove this parameter as it is also the default value for RandomForestClassifiers and ExtraTreesClassifiers.\n",
      "  warn(\n",
      "/opt/conda/lib/python3.10/site-packages/sklearn/ensemble/_forest.py:424: FutureWarning: `max_features='auto'` has been deprecated in 1.1 and will be removed in 1.3. To keep the past behaviour, explicitly set `max_features='sqrt'` or remove this parameter as it is also the default value for RandomForestClassifiers and ExtraTreesClassifiers.\n",
      "  warn(\n",
      "/opt/conda/lib/python3.10/site-packages/sklearn/ensemble/_forest.py:424: FutureWarning: `max_features='auto'` has been deprecated in 1.1 and will be removed in 1.3. To keep the past behaviour, explicitly set `max_features='sqrt'` or remove this parameter as it is also the default value for RandomForestClassifiers and ExtraTreesClassifiers.\n",
      "  warn(\n",
      "/opt/conda/lib/python3.10/site-packages/sklearn/ensemble/_forest.py:424: FutureWarning: `max_features='auto'` has been deprecated in 1.1 and will be removed in 1.3. To keep the past behaviour, explicitly set `max_features='sqrt'` or remove this parameter as it is also the default value for RandomForestClassifiers and ExtraTreesClassifiers.\n",
      "  warn(\n",
      "/opt/conda/lib/python3.10/site-packages/sklearn/ensemble/_forest.py:424: FutureWarning: `max_features='auto'` has been deprecated in 1.1 and will be removed in 1.3. To keep the past behaviour, explicitly set `max_features='sqrt'` or remove this parameter as it is also the default value for RandomForestClassifiers and ExtraTreesClassifiers.\n",
      "  warn(\n",
      "/opt/conda/lib/python3.10/site-packages/sklearn/ensemble/_forest.py:424: FutureWarning: `max_features='auto'` has been deprecated in 1.1 and will be removed in 1.3. To keep the past behaviour, explicitly set `max_features='sqrt'` or remove this parameter as it is also the default value for RandomForestClassifiers and ExtraTreesClassifiers.\n",
      "  warn(\n",
      "/opt/conda/lib/python3.10/site-packages/sklearn/ensemble/_forest.py:424: FutureWarning: `max_features='auto'` has been deprecated in 1.1 and will be removed in 1.3. To keep the past behaviour, explicitly set `max_features='sqrt'` or remove this parameter as it is also the default value for RandomForestClassifiers and ExtraTreesClassifiers.\n",
      "  warn(\n",
      "/opt/conda/lib/python3.10/site-packages/sklearn/ensemble/_forest.py:424: FutureWarning: `max_features='auto'` has been deprecated in 1.1 and will be removed in 1.3. To keep the past behaviour, explicitly set `max_features='sqrt'` or remove this parameter as it is also the default value for RandomForestClassifiers and ExtraTreesClassifiers.\n",
      "  warn(\n",
      "/opt/conda/lib/python3.10/site-packages/sklearn/ensemble/_forest.py:424: FutureWarning: `max_features='auto'` has been deprecated in 1.1 and will be removed in 1.3. To keep the past behaviour, explicitly set `max_features='sqrt'` or remove this parameter as it is also the default value for RandomForestClassifiers and ExtraTreesClassifiers.\n",
      "  warn(\n"
     ]
    },
    {
     "data": {
      "text/html": [
       "<style>#sk-container-id-2 {color: black;background-color: white;}#sk-container-id-2 pre{padding: 0;}#sk-container-id-2 div.sk-toggleable {background-color: white;}#sk-container-id-2 label.sk-toggleable__label {cursor: pointer;display: block;width: 100%;margin-bottom: 0;padding: 0.3em;box-sizing: border-box;text-align: center;}#sk-container-id-2 label.sk-toggleable__label-arrow:before {content: \"▸\";float: left;margin-right: 0.25em;color: #696969;}#sk-container-id-2 label.sk-toggleable__label-arrow:hover:before {color: black;}#sk-container-id-2 div.sk-estimator:hover label.sk-toggleable__label-arrow:before {color: black;}#sk-container-id-2 div.sk-toggleable__content {max-height: 0;max-width: 0;overflow: hidden;text-align: left;background-color: #f0f8ff;}#sk-container-id-2 div.sk-toggleable__content pre {margin: 0.2em;color: black;border-radius: 0.25em;background-color: #f0f8ff;}#sk-container-id-2 input.sk-toggleable__control:checked~div.sk-toggleable__content {max-height: 200px;max-width: 100%;overflow: auto;}#sk-container-id-2 input.sk-toggleable__control:checked~label.sk-toggleable__label-arrow:before {content: \"▾\";}#sk-container-id-2 div.sk-estimator input.sk-toggleable__control:checked~label.sk-toggleable__label {background-color: #d4ebff;}#sk-container-id-2 div.sk-label input.sk-toggleable__control:checked~label.sk-toggleable__label {background-color: #d4ebff;}#sk-container-id-2 input.sk-hidden--visually {border: 0;clip: rect(1px 1px 1px 1px);clip: rect(1px, 1px, 1px, 1px);height: 1px;margin: -1px;overflow: hidden;padding: 0;position: absolute;width: 1px;}#sk-container-id-2 div.sk-estimator {font-family: monospace;background-color: #f0f8ff;border: 1px dotted black;border-radius: 0.25em;box-sizing: border-box;margin-bottom: 0.5em;}#sk-container-id-2 div.sk-estimator:hover {background-color: #d4ebff;}#sk-container-id-2 div.sk-parallel-item::after {content: \"\";width: 100%;border-bottom: 1px solid gray;flex-grow: 1;}#sk-container-id-2 div.sk-label:hover label.sk-toggleable__label {background-color: #d4ebff;}#sk-container-id-2 div.sk-serial::before {content: \"\";position: absolute;border-left: 1px solid gray;box-sizing: border-box;top: 0;bottom: 0;left: 50%;z-index: 0;}#sk-container-id-2 div.sk-serial {display: flex;flex-direction: column;align-items: center;background-color: white;padding-right: 0.2em;padding-left: 0.2em;position: relative;}#sk-container-id-2 div.sk-item {position: relative;z-index: 1;}#sk-container-id-2 div.sk-parallel {display: flex;align-items: stretch;justify-content: center;background-color: white;position: relative;}#sk-container-id-2 div.sk-item::before, #sk-container-id-2 div.sk-parallel-item::before {content: \"\";position: absolute;border-left: 1px solid gray;box-sizing: border-box;top: 0;bottom: 0;left: 50%;z-index: -1;}#sk-container-id-2 div.sk-parallel-item {display: flex;flex-direction: column;z-index: 1;position: relative;background-color: white;}#sk-container-id-2 div.sk-parallel-item:first-child::after {align-self: flex-end;width: 50%;}#sk-container-id-2 div.sk-parallel-item:last-child::after {align-self: flex-start;width: 50%;}#sk-container-id-2 div.sk-parallel-item:only-child::after {width: 0;}#sk-container-id-2 div.sk-dashed-wrapped {border: 1px dashed gray;margin: 0 0.4em 0.5em 0.4em;box-sizing: border-box;padding-bottom: 0.4em;background-color: white;}#sk-container-id-2 div.sk-label label {font-family: monospace;font-weight: bold;display: inline-block;line-height: 1.2em;}#sk-container-id-2 div.sk-label-container {text-align: center;}#sk-container-id-2 div.sk-container {/* jupyter's `normalize.less` sets `[hidden] { display: none; }` but bootstrap.min.css set `[hidden] { display: none !important; }` so we also need the `!important` here to be able to override the default hidden behavior on the sphinx rendered scikit-learn.org. See: https://github.com/scikit-learn/scikit-learn/issues/21755 */display: inline-block !important;position: relative;}#sk-container-id-2 div.sk-text-repr-fallback {display: none;}</style><div id=\"sk-container-id-2\" class=\"sk-top-container\"><div class=\"sk-text-repr-fallback\"><pre>RandomizedSearchCV(cv=5, estimator=RandomForestClassifier(), n_iter=20,\n",
       "                   param_distributions={&#x27;max_depth&#x27;: [None, 3, 5, 10, 20, 30],\n",
       "                                        &#x27;max_features&#x27;: [&#x27;auto&#x27;, &#x27;sqrt&#x27;],\n",
       "                                        &#x27;min_samples_leaf&#x27;: [1, 2, 5, 10],\n",
       "                                        &#x27;min_samples_split&#x27;: [2, 5, 20, 50,\n",
       "                                                              100],\n",
       "                                        &#x27;n_estimators&#x27;: array([ 10,  20,  30,  40,  50,  60,  70,  80,  90, 100, 110, 120, 130,\n",
       "       140, 150, 160, 170, 180, 190, 200, 210, 220, 230, 240, 250, 260,\n",
       "       270, 280, 290, 300, 310, 320, 330, 340, 350, 360, 370, 380, 390,\n",
       "       400, 410, 420, 430, 440, 450, 460, 470, 480, 490, 500, 510, 520,\n",
       "       530, 540, 550, 560, 570, 580, 590, 600, 610, 620, 630, 640, 650,\n",
       "       660, 670, 680, 690, 700, 710, 720, 730, 740, 750, 760, 770, 780,\n",
       "       790, 800, 810, 820, 830, 840, 850, 860, 870, 880, 890, 900, 910,\n",
       "       920, 930, 940, 950, 960, 970, 980, 990])},\n",
       "                   verbose=True)</pre><b>In a Jupyter environment, please rerun this cell to show the HTML representation or trust the notebook. <br />On GitHub, the HTML representation is unable to render, please try loading this page with nbviewer.org.</b></div><div class=\"sk-container\" hidden><div class=\"sk-item sk-dashed-wrapped\"><div class=\"sk-label-container\"><div class=\"sk-label sk-toggleable\"><input class=\"sk-toggleable__control sk-hidden--visually\" id=\"sk-estimator-id-2\" type=\"checkbox\" ><label for=\"sk-estimator-id-2\" class=\"sk-toggleable__label sk-toggleable__label-arrow\">RandomizedSearchCV</label><div class=\"sk-toggleable__content\"><pre>RandomizedSearchCV(cv=5, estimator=RandomForestClassifier(), n_iter=20,\n",
       "                   param_distributions={&#x27;max_depth&#x27;: [None, 3, 5, 10, 20, 30],\n",
       "                                        &#x27;max_features&#x27;: [&#x27;auto&#x27;, &#x27;sqrt&#x27;],\n",
       "                                        &#x27;min_samples_leaf&#x27;: [1, 2, 5, 10],\n",
       "                                        &#x27;min_samples_split&#x27;: [2, 5, 20, 50,\n",
       "                                                              100],\n",
       "                                        &#x27;n_estimators&#x27;: array([ 10,  20,  30,  40,  50,  60,  70,  80,  90, 100, 110, 120, 130,\n",
       "       140, 150, 160, 170, 180, 190, 200, 210, 220, 230, 240, 250, 260,\n",
       "       270, 280, 290, 300, 310, 320, 330, 340, 350, 360, 370, 380, 390,\n",
       "       400, 410, 420, 430, 440, 450, 460, 470, 480, 490, 500, 510, 520,\n",
       "       530, 540, 550, 560, 570, 580, 590, 600, 610, 620, 630, 640, 650,\n",
       "       660, 670, 680, 690, 700, 710, 720, 730, 740, 750, 760, 770, 780,\n",
       "       790, 800, 810, 820, 830, 840, 850, 860, 870, 880, 890, 900, 910,\n",
       "       920, 930, 940, 950, 960, 970, 980, 990])},\n",
       "                   verbose=True)</pre></div></div></div><div class=\"sk-parallel\"><div class=\"sk-parallel-item\"><div class=\"sk-item\"><div class=\"sk-label-container\"><div class=\"sk-label sk-toggleable\"><input class=\"sk-toggleable__control sk-hidden--visually\" id=\"sk-estimator-id-3\" type=\"checkbox\" ><label for=\"sk-estimator-id-3\" class=\"sk-toggleable__label sk-toggleable__label-arrow\">estimator: RandomForestClassifier</label><div class=\"sk-toggleable__content\"><pre>RandomForestClassifier()</pre></div></div></div><div class=\"sk-serial\"><div class=\"sk-item\"><div class=\"sk-estimator sk-toggleable\"><input class=\"sk-toggleable__control sk-hidden--visually\" id=\"sk-estimator-id-4\" type=\"checkbox\" ><label for=\"sk-estimator-id-4\" class=\"sk-toggleable__label sk-toggleable__label-arrow\">RandomForestClassifier</label><div class=\"sk-toggleable__content\"><pre>RandomForestClassifier()</pre></div></div></div></div></div></div></div></div></div></div>"
      ],
      "text/plain": [
       "RandomizedSearchCV(cv=5, estimator=RandomForestClassifier(), n_iter=20,\n",
       "                   param_distributions={'max_depth': [None, 3, 5, 10, 20, 30],\n",
       "                                        'max_features': ['auto', 'sqrt'],\n",
       "                                        'min_samples_leaf': [1, 2, 5, 10],\n",
       "                                        'min_samples_split': [2, 5, 20, 50,\n",
       "                                                              100],\n",
       "                                        'n_estimators': array([ 10,  20,  30,  40,  50,  60,  70,  80,  90, 100, 110, 120, 130,\n",
       "       140, 150, 160, 170, 180, 190, 200, 210, 220, 230, 240, 250, 260,\n",
       "       270, 280, 290, 300, 310, 320, 330, 340, 350, 360, 370, 380, 390,\n",
       "       400, 410, 420, 430, 440, 450, 460, 470, 480, 490, 500, 510, 520,\n",
       "       530, 540, 550, 560, 570, 580, 590, 600, 610, 620, 630, 640, 650,\n",
       "       660, 670, 680, 690, 700, 710, 720, 730, 740, 750, 760, 770, 780,\n",
       "       790, 800, 810, 820, 830, 840, 850, 860, 870, 880, 890, 900, 910,\n",
       "       920, 930, 940, 950, 960, 970, 980, 990])},\n",
       "                   verbose=True)"
      ]
     },
     "execution_count": 46,
     "metadata": {},
     "output_type": "execute_result"
    }
   ],
   "source": [
    "rs_rf.fit(X,Y)"
   ]
  },
  {
   "cell_type": "code",
   "execution_count": 47,
   "id": "872aa775",
   "metadata": {
    "execution": {
     "iopub.execute_input": "2023-06-28T22:02:32.239153Z",
     "iopub.status.busy": "2023-06-28T22:02:32.238705Z",
     "iopub.status.idle": "2023-06-28T22:02:32.246028Z",
     "shell.execute_reply": "2023-06-28T22:02:32.244869Z"
    },
    "papermill": {
     "duration": 0.037433,
     "end_time": "2023-06-28T22:02:32.248287",
     "exception": false,
     "start_time": "2023-06-28T22:02:32.210854",
     "status": "completed"
    },
    "tags": []
   },
   "outputs": [
    {
     "data": {
      "text/plain": [
       "0.8508743169398908"
      ]
     },
     "execution_count": 47,
     "metadata": {},
     "output_type": "execute_result"
    }
   ],
   "source": [
    "rs_rf.best_score_"
   ]
  },
  {
   "cell_type": "code",
   "execution_count": 48,
   "id": "3b7037b3",
   "metadata": {
    "execution": {
     "iopub.execute_input": "2023-06-28T22:02:32.301470Z",
     "iopub.status.busy": "2023-06-28T22:02:32.301080Z",
     "iopub.status.idle": "2023-06-28T22:02:32.307410Z",
     "shell.execute_reply": "2023-06-28T22:02:32.306160Z"
    },
    "papermill": {
     "duration": 0.035895,
     "end_time": "2023-06-28T22:02:32.309808",
     "exception": false,
     "start_time": "2023-06-28T22:02:32.273913",
     "status": "completed"
    },
    "tags": []
   },
   "outputs": [],
   "source": [
    "#saving the model\n",
    "X=train_data.drop(columns=['age','target'], axis=1)"
   ]
  },
  {
   "cell_type": "code",
   "execution_count": 49,
   "id": "9822a389",
   "metadata": {
    "execution": {
     "iopub.execute_input": "2023-06-28T22:02:32.363432Z",
     "iopub.status.busy": "2023-06-28T22:02:32.363037Z",
     "iopub.status.idle": "2023-06-28T22:02:32.367992Z",
     "shell.execute_reply": "2023-06-28T22:02:32.366858Z"
    },
    "papermill": {
     "duration": 0.034871,
     "end_time": "2023-06-28T22:02:32.370555",
     "exception": false,
     "start_time": "2023-06-28T22:02:32.335684",
     "status": "completed"
    },
    "tags": []
   },
   "outputs": [],
   "source": [
    "Y=train_data['target']"
   ]
  },
  {
   "cell_type": "code",
   "execution_count": 50,
   "id": "9bbbfe6f",
   "metadata": {
    "execution": {
     "iopub.execute_input": "2023-06-28T22:02:32.423045Z",
     "iopub.status.busy": "2023-06-28T22:02:32.422646Z",
     "iopub.status.idle": "2023-06-28T22:02:32.427531Z",
     "shell.execute_reply": "2023-06-28T22:02:32.426481Z"
    },
    "papermill": {
     "duration": 0.033798,
     "end_time": "2023-06-28T22:02:32.429810",
     "exception": false,
     "start_time": "2023-06-28T22:02:32.396012",
     "status": "completed"
    },
    "tags": []
   },
   "outputs": [],
   "source": [
    "rf=RandomForestClassifier(n_estimators=270,max_features='sqrt',max_depth=5,min_samples_split=5,min_samples_leaf=5)"
   ]
  },
  {
   "cell_type": "code",
   "execution_count": 51,
   "id": "65c5223c",
   "metadata": {
    "execution": {
     "iopub.execute_input": "2023-06-28T22:02:32.482033Z",
     "iopub.status.busy": "2023-06-28T22:02:32.481604Z",
     "iopub.status.idle": "2023-06-28T22:02:33.117196Z",
     "shell.execute_reply": "2023-06-28T22:02:33.116118Z"
    },
    "papermill": {
     "duration": 0.66541,
     "end_time": "2023-06-28T22:02:33.120431",
     "exception": false,
     "start_time": "2023-06-28T22:02:32.455021",
     "status": "completed"
    },
    "tags": []
   },
   "outputs": [
    {
     "data": {
      "text/html": [
       "<style>#sk-container-id-3 {color: black;background-color: white;}#sk-container-id-3 pre{padding: 0;}#sk-container-id-3 div.sk-toggleable {background-color: white;}#sk-container-id-3 label.sk-toggleable__label {cursor: pointer;display: block;width: 100%;margin-bottom: 0;padding: 0.3em;box-sizing: border-box;text-align: center;}#sk-container-id-3 label.sk-toggleable__label-arrow:before {content: \"▸\";float: left;margin-right: 0.25em;color: #696969;}#sk-container-id-3 label.sk-toggleable__label-arrow:hover:before {color: black;}#sk-container-id-3 div.sk-estimator:hover label.sk-toggleable__label-arrow:before {color: black;}#sk-container-id-3 div.sk-toggleable__content {max-height: 0;max-width: 0;overflow: hidden;text-align: left;background-color: #f0f8ff;}#sk-container-id-3 div.sk-toggleable__content pre {margin: 0.2em;color: black;border-radius: 0.25em;background-color: #f0f8ff;}#sk-container-id-3 input.sk-toggleable__control:checked~div.sk-toggleable__content {max-height: 200px;max-width: 100%;overflow: auto;}#sk-container-id-3 input.sk-toggleable__control:checked~label.sk-toggleable__label-arrow:before {content: \"▾\";}#sk-container-id-3 div.sk-estimator input.sk-toggleable__control:checked~label.sk-toggleable__label {background-color: #d4ebff;}#sk-container-id-3 div.sk-label input.sk-toggleable__control:checked~label.sk-toggleable__label {background-color: #d4ebff;}#sk-container-id-3 input.sk-hidden--visually {border: 0;clip: rect(1px 1px 1px 1px);clip: rect(1px, 1px, 1px, 1px);height: 1px;margin: -1px;overflow: hidden;padding: 0;position: absolute;width: 1px;}#sk-container-id-3 div.sk-estimator {font-family: monospace;background-color: #f0f8ff;border: 1px dotted black;border-radius: 0.25em;box-sizing: border-box;margin-bottom: 0.5em;}#sk-container-id-3 div.sk-estimator:hover {background-color: #d4ebff;}#sk-container-id-3 div.sk-parallel-item::after {content: \"\";width: 100%;border-bottom: 1px solid gray;flex-grow: 1;}#sk-container-id-3 div.sk-label:hover label.sk-toggleable__label {background-color: #d4ebff;}#sk-container-id-3 div.sk-serial::before {content: \"\";position: absolute;border-left: 1px solid gray;box-sizing: border-box;top: 0;bottom: 0;left: 50%;z-index: 0;}#sk-container-id-3 div.sk-serial {display: flex;flex-direction: column;align-items: center;background-color: white;padding-right: 0.2em;padding-left: 0.2em;position: relative;}#sk-container-id-3 div.sk-item {position: relative;z-index: 1;}#sk-container-id-3 div.sk-parallel {display: flex;align-items: stretch;justify-content: center;background-color: white;position: relative;}#sk-container-id-3 div.sk-item::before, #sk-container-id-3 div.sk-parallel-item::before {content: \"\";position: absolute;border-left: 1px solid gray;box-sizing: border-box;top: 0;bottom: 0;left: 50%;z-index: -1;}#sk-container-id-3 div.sk-parallel-item {display: flex;flex-direction: column;z-index: 1;position: relative;background-color: white;}#sk-container-id-3 div.sk-parallel-item:first-child::after {align-self: flex-end;width: 50%;}#sk-container-id-3 div.sk-parallel-item:last-child::after {align-self: flex-start;width: 50%;}#sk-container-id-3 div.sk-parallel-item:only-child::after {width: 0;}#sk-container-id-3 div.sk-dashed-wrapped {border: 1px dashed gray;margin: 0 0.4em 0.5em 0.4em;box-sizing: border-box;padding-bottom: 0.4em;background-color: white;}#sk-container-id-3 div.sk-label label {font-family: monospace;font-weight: bold;display: inline-block;line-height: 1.2em;}#sk-container-id-3 div.sk-label-container {text-align: center;}#sk-container-id-3 div.sk-container {/* jupyter's `normalize.less` sets `[hidden] { display: none; }` but bootstrap.min.css set `[hidden] { display: none !important; }` so we also need the `!important` here to be able to override the default hidden behavior on the sphinx rendered scikit-learn.org. See: https://github.com/scikit-learn/scikit-learn/issues/21755 */display: inline-block !important;position: relative;}#sk-container-id-3 div.sk-text-repr-fallback {display: none;}</style><div id=\"sk-container-id-3\" class=\"sk-top-container\"><div class=\"sk-text-repr-fallback\"><pre>RandomForestClassifier(max_depth=5, min_samples_leaf=5, min_samples_split=5,\n",
       "                       n_estimators=270)</pre><b>In a Jupyter environment, please rerun this cell to show the HTML representation or trust the notebook. <br />On GitHub, the HTML representation is unable to render, please try loading this page with nbviewer.org.</b></div><div class=\"sk-container\" hidden><div class=\"sk-item\"><div class=\"sk-estimator sk-toggleable\"><input class=\"sk-toggleable__control sk-hidden--visually\" id=\"sk-estimator-id-5\" type=\"checkbox\" checked><label for=\"sk-estimator-id-5\" class=\"sk-toggleable__label sk-toggleable__label-arrow\">RandomForestClassifier</label><div class=\"sk-toggleable__content\"><pre>RandomForestClassifier(max_depth=5, min_samples_leaf=5, min_samples_split=5,\n",
       "                       n_estimators=270)</pre></div></div></div></div></div>"
      ],
      "text/plain": [
       "RandomForestClassifier(max_depth=5, min_samples_leaf=5, min_samples_split=5,\n",
       "                       n_estimators=270)"
      ]
     },
     "execution_count": 51,
     "metadata": {},
     "output_type": "execute_result"
    }
   ],
   "source": [
    "rf.fit(X,Y)"
   ]
  },
  {
   "cell_type": "code",
   "execution_count": 52,
   "id": "b6e74ce9",
   "metadata": {
    "execution": {
     "iopub.execute_input": "2023-06-28T22:02:33.174481Z",
     "iopub.status.busy": "2023-06-28T22:02:33.173991Z",
     "iopub.status.idle": "2023-06-28T22:02:33.179440Z",
     "shell.execute_reply": "2023-06-28T22:02:33.178144Z"
    },
    "papermill": {
     "duration": 0.035833,
     "end_time": "2023-06-28T22:02:33.181745",
     "exception": false,
     "start_time": "2023-06-28T22:02:33.145912",
     "status": "completed"
    },
    "tags": []
   },
   "outputs": [],
   "source": [
    "import joblib"
   ]
  },
  {
   "cell_type": "code",
   "execution_count": 53,
   "id": "a4f55bdd",
   "metadata": {
    "execution": {
     "iopub.execute_input": "2023-06-28T22:02:33.235142Z",
     "iopub.status.busy": "2023-06-28T22:02:33.234707Z",
     "iopub.status.idle": "2023-06-28T22:02:33.437459Z",
     "shell.execute_reply": "2023-06-28T22:02:33.436246Z"
    },
    "papermill": {
     "duration": 0.232207,
     "end_time": "2023-06-28T22:02:33.440120",
     "exception": false,
     "start_time": "2023-06-28T22:02:33.207913",
     "status": "completed"
    },
    "tags": []
   },
   "outputs": [
    {
     "data": {
      "text/plain": [
       "['heartdisease']"
      ]
     },
     "execution_count": 53,
     "metadata": {},
     "output_type": "execute_result"
    }
   ],
   "source": [
    "joblib.dump(rf,'heartdisease')"
   ]
  },
  {
   "cell_type": "code",
   "execution_count": 54,
   "id": "4b822a58",
   "metadata": {
    "execution": {
     "iopub.execute_input": "2023-06-28T22:02:33.495048Z",
     "iopub.status.busy": "2023-06-28T22:02:33.494665Z",
     "iopub.status.idle": "2023-06-28T22:02:33.631659Z",
     "shell.execute_reply": "2023-06-28T22:02:33.630567Z"
    },
    "papermill": {
     "duration": 0.168748,
     "end_time": "2023-06-28T22:02:33.634618",
     "exception": false,
     "start_time": "2023-06-28T22:02:33.465870",
     "status": "completed"
    },
    "tags": []
   },
   "outputs": [],
   "source": [
    "model=joblib.load('heartdisease')"
   ]
  },
  {
   "cell_type": "code",
   "execution_count": 55,
   "id": "ceaed481",
   "metadata": {
    "execution": {
     "iopub.execute_input": "2023-06-28T22:02:33.688682Z",
     "iopub.status.busy": "2023-06-28T22:02:33.688044Z",
     "iopub.status.idle": "2023-06-28T22:02:33.694825Z",
     "shell.execute_reply": "2023-06-28T22:02:33.694123Z"
    },
    "papermill": {
     "duration": 0.036639,
     "end_time": "2023-06-28T22:02:33.697008",
     "exception": false,
     "start_time": "2023-06-28T22:02:33.660369",
     "status": "completed"
    },
    "tags": []
   },
   "outputs": [],
   "source": [
    "#UNSEEN DATA IN A DATAFRAME df\n",
    "df=pd.DataFrame({'sex':1,\n",
    "                'cp':2,\n",
    "                'trestbps':145,\n",
    "                 'chol':203,\n",
    "                 'fbs':0,\n",
    "                 'restecg':1,\n",
    "                 'thalach':168,\n",
    "                 'exang':0,\n",
    "                 'oldpeak':1.5,\n",
    "                 'slope':2,\n",
    "                 'ca':3,\n",
    "                 'thal':2\n",
    "                }, index=[0])"
   ]
  },
  {
   "cell_type": "code",
   "execution_count": 56,
   "id": "f0651b93",
   "metadata": {
    "execution": {
     "iopub.execute_input": "2023-06-28T22:02:33.751688Z",
     "iopub.status.busy": "2023-06-28T22:02:33.751011Z",
     "iopub.status.idle": "2023-06-28T22:02:33.763573Z",
     "shell.execute_reply": "2023-06-28T22:02:33.762532Z"
    },
    "papermill": {
     "duration": 0.042257,
     "end_time": "2023-06-28T22:02:33.765829",
     "exception": false,
     "start_time": "2023-06-28T22:02:33.723572",
     "status": "completed"
    },
    "tags": []
   },
   "outputs": [
    {
     "data": {
      "text/html": [
       "<div>\n",
       "<style scoped>\n",
       "    .dataframe tbody tr th:only-of-type {\n",
       "        vertical-align: middle;\n",
       "    }\n",
       "\n",
       "    .dataframe tbody tr th {\n",
       "        vertical-align: top;\n",
       "    }\n",
       "\n",
       "    .dataframe thead th {\n",
       "        text-align: right;\n",
       "    }\n",
       "</style>\n",
       "<table border=\"1\" class=\"dataframe\">\n",
       "  <thead>\n",
       "    <tr style=\"text-align: right;\">\n",
       "      <th></th>\n",
       "      <th>sex</th>\n",
       "      <th>cp</th>\n",
       "      <th>trestbps</th>\n",
       "      <th>chol</th>\n",
       "      <th>fbs</th>\n",
       "      <th>restecg</th>\n",
       "      <th>thalach</th>\n",
       "      <th>exang</th>\n",
       "      <th>oldpeak</th>\n",
       "      <th>slope</th>\n",
       "      <th>ca</th>\n",
       "      <th>thal</th>\n",
       "    </tr>\n",
       "  </thead>\n",
       "  <tbody>\n",
       "    <tr>\n",
       "      <th>0</th>\n",
       "      <td>1</td>\n",
       "      <td>2</td>\n",
       "      <td>145</td>\n",
       "      <td>203</td>\n",
       "      <td>0</td>\n",
       "      <td>1</td>\n",
       "      <td>168</td>\n",
       "      <td>0</td>\n",
       "      <td>1.5</td>\n",
       "      <td>2</td>\n",
       "      <td>3</td>\n",
       "      <td>2</td>\n",
       "    </tr>\n",
       "  </tbody>\n",
       "</table>\n",
       "</div>"
      ],
      "text/plain": [
       "   sex  cp  trestbps  chol  fbs  restecg  thalach  exang  oldpeak  slope  ca  \\\n",
       "0    1   2       145   203    0        1      168      0      1.5      2   3   \n",
       "\n",
       "   thal  \n",
       "0     2  "
      ]
     },
     "execution_count": 56,
     "metadata": {},
     "output_type": "execute_result"
    }
   ],
   "source": [
    "df"
   ]
  },
  {
   "cell_type": "code",
   "execution_count": 57,
   "id": "674ef703",
   "metadata": {
    "execution": {
     "iopub.execute_input": "2023-06-28T22:02:33.819737Z",
     "iopub.status.busy": "2023-06-28T22:02:33.819329Z",
     "iopub.status.idle": "2023-06-28T22:02:33.858354Z",
     "shell.execute_reply": "2023-06-28T22:02:33.857272Z"
    },
    "papermill": {
     "duration": 0.069001,
     "end_time": "2023-06-28T22:02:33.861214",
     "exception": false,
     "start_time": "2023-06-28T22:02:33.792213",
     "status": "completed"
    },
    "tags": []
   },
   "outputs": [],
   "source": [
    "result=model.predict(df)"
   ]
  },
  {
   "cell_type": "code",
   "execution_count": 58,
   "id": "6057045f",
   "metadata": {
    "execution": {
     "iopub.execute_input": "2023-06-28T22:02:33.916114Z",
     "iopub.status.busy": "2023-06-28T22:02:33.915686Z",
     "iopub.status.idle": "2023-06-28T22:02:33.921348Z",
     "shell.execute_reply": "2023-06-28T22:02:33.920255Z"
    },
    "papermill": {
     "duration": 0.03665,
     "end_time": "2023-06-28T22:02:33.923906",
     "exception": false,
     "start_time": "2023-06-28T22:02:33.887256",
     "status": "completed"
    },
    "tags": []
   },
   "outputs": [
    {
     "name": "stdout",
     "output_type": "stream",
     "text": [
      "[1]\n"
     ]
    }
   ],
   "source": [
    "print(result)"
   ]
  },
  {
   "cell_type": "code",
   "execution_count": 59,
   "id": "fffd3956",
   "metadata": {
    "execution": {
     "iopub.execute_input": "2023-06-28T22:02:33.977855Z",
     "iopub.status.busy": "2023-06-28T22:02:33.977438Z",
     "iopub.status.idle": "2023-06-28T22:02:33.983979Z",
     "shell.execute_reply": "2023-06-28T22:02:33.982572Z"
    },
    "papermill": {
     "duration": 0.036087,
     "end_time": "2023-06-28T22:02:33.986290",
     "exception": false,
     "start_time": "2023-06-28T22:02:33.950203",
     "status": "completed"
    },
    "tags": []
   },
   "outputs": [
    {
     "name": "stdout",
     "output_type": "stream",
     "text": [
      "Heart Disease\n"
     ]
    }
   ],
   "source": [
    "if result==0:\n",
    "    print(\"No Heart Disease\")\n",
    "else:\n",
    "    print(\"Heart Disease\")"
   ]
  }
 ],
 "metadata": {
  "kernelspec": {
   "display_name": "Python 3",
   "language": "python",
   "name": "python3"
  },
  "language_info": {
   "codemirror_mode": {
    "name": "ipython",
    "version": 3
   },
   "file_extension": ".py",
   "mimetype": "text/x-python",
   "name": "python",
   "nbconvert_exporter": "python",
   "pygments_lexer": "ipython3",
   "version": "3.10.10"
  },
  "papermill": {
   "default_parameters": {},
   "duration": 142.209401,
   "end_time": "2023-06-28T22:02:35.035680",
   "environment_variables": {},
   "exception": null,
   "input_path": "__notebook__.ipynb",
   "output_path": "__notebook__.ipynb",
   "parameters": {},
   "start_time": "2023-06-28T22:00:12.826279",
   "version": "2.4.0"
  }
 },
 "nbformat": 4,
 "nbformat_minor": 5
}
